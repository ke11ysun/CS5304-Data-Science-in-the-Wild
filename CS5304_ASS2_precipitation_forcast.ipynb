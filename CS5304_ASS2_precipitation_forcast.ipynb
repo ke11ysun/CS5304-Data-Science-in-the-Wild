{
 "cells": [
  {
   "cell_type": "code",
   "execution_count": 2,
   "metadata": {},
   "outputs": [],
   "source": [
    "import pandas as pd\n",
    "import matplotlib.pyplot as plt\n",
    "import seaborn as sns\n",
    "from scipy import stats\n",
    "import numpy as np\n",
    "%matplotlib inline"
   ]
  },
  {
   "cell_type": "markdown",
   "metadata": {},
   "source": [
    "# Precipitation Prediction"
   ]
  },
  {
   "cell_type": "markdown",
   "metadata": {},
   "source": [
    "In this assignment, we conducted precipitation forecasting based on hourly weather data from 2 weather stations in Brazil. Due to the limitation of working hours and data recording, the dataset contains some errors and missing values. We set up logistic regression and linear regression models based on minimally cleaned dataset and thoroughly cleaned dataset respectively and figured out that data cleaning and outlier removing improve the prediction performance a lot. \n",
    "<br>Detailed procedures are as follows:"
   ]
  },
  {
   "cell_type": "markdown",
   "metadata": {},
   "source": [
    "- [Observe data](#observe)\n",
    "- [Choose a city](#city)\n",
    " - [Thorough cleaning](#clean)\n",
    " - [Feature engineering](#feature)\n",
    "- [Predictive modeling](#model)\n",
    " - [Logistic regression](#lr)\n",
    " - [Linear regression](#linear)\n",
    "- [Predict with zero-filling](#zero)\n",
    "- [Bonus: the other city](#bonus)\n",
    " "
   ]
  },
  {
   "cell_type": "markdown",
   "metadata": {},
   "source": [
    "### Observe data\n",
    "<a id='observe'></a>"
   ]
  },
  {
   "cell_type": "code",
   "execution_count": 3,
   "metadata": {},
   "outputs": [
    {
     "data": {
      "text/html": [
       "<div>\n",
       "<style scoped>\n",
       "    .dataframe tbody tr th:only-of-type {\n",
       "        vertical-align: middle;\n",
       "    }\n",
       "\n",
       "    .dataframe tbody tr th {\n",
       "        vertical-align: top;\n",
       "    }\n",
       "\n",
       "    .dataframe thead th {\n",
       "        text-align: right;\n",
       "    }\n",
       "</style>\n",
       "<table border=\"1\" class=\"dataframe\">\n",
       "  <thead>\n",
       "    <tr style=\"text-align: right;\">\n",
       "      <th></th>\n",
       "      <th>wsid</th>\n",
       "      <th>wsnm</th>\n",
       "      <th>elvt</th>\n",
       "      <th>lat</th>\n",
       "      <th>lon</th>\n",
       "      <th>inme</th>\n",
       "      <th>city</th>\n",
       "      <th>prov</th>\n",
       "      <th>mdct</th>\n",
       "      <th>date</th>\n",
       "      <th>...</th>\n",
       "      <th>tmax</th>\n",
       "      <th>dmax</th>\n",
       "      <th>tmin</th>\n",
       "      <th>dmin</th>\n",
       "      <th>hmdy</th>\n",
       "      <th>hmax</th>\n",
       "      <th>hmin</th>\n",
       "      <th>wdsp</th>\n",
       "      <th>wdct</th>\n",
       "      <th>gust</th>\n",
       "    </tr>\n",
       "  </thead>\n",
       "  <tbody>\n",
       "    <tr>\n",
       "      <th>0</th>\n",
       "      <td>178</td>\n",
       "      <td>SÃO GONÇALO</td>\n",
       "      <td>237</td>\n",
       "      <td>-6.835777</td>\n",
       "      <td>-38.311583</td>\n",
       "      <td>A333</td>\n",
       "      <td>São Gonçalo</td>\n",
       "      <td>RJ</td>\n",
       "      <td>2007-11-06 00:00:00</td>\n",
       "      <td>2007-11-06</td>\n",
       "      <td>...</td>\n",
       "      <td>29.7</td>\n",
       "      <td>16.8</td>\n",
       "      <td>25.5</td>\n",
       "      <td>10.8</td>\n",
       "      <td>35</td>\n",
       "      <td>58</td>\n",
       "      <td>32</td>\n",
       "      <td>3.2</td>\n",
       "      <td>101</td>\n",
       "      <td>6.5</td>\n",
       "    </tr>\n",
       "    <tr>\n",
       "      <th>1</th>\n",
       "      <td>178</td>\n",
       "      <td>SÃO GONÇALO</td>\n",
       "      <td>237</td>\n",
       "      <td>-6.835777</td>\n",
       "      <td>-38.311583</td>\n",
       "      <td>A333</td>\n",
       "      <td>São Gonçalo</td>\n",
       "      <td>RJ</td>\n",
       "      <td>2007-11-06 01:00:00</td>\n",
       "      <td>2007-11-06</td>\n",
       "      <td>...</td>\n",
       "      <td>29.9</td>\n",
       "      <td>13.6</td>\n",
       "      <td>29.0</td>\n",
       "      <td>12.2</td>\n",
       "      <td>39</td>\n",
       "      <td>39</td>\n",
       "      <td>35</td>\n",
       "      <td>3.6</td>\n",
       "      <td>94</td>\n",
       "      <td>6.4</td>\n",
       "    </tr>\n",
       "    <tr>\n",
       "      <th>2</th>\n",
       "      <td>178</td>\n",
       "      <td>SÃO GONÇALO</td>\n",
       "      <td>237</td>\n",
       "      <td>-6.835777</td>\n",
       "      <td>-38.311583</td>\n",
       "      <td>A333</td>\n",
       "      <td>São Gonçalo</td>\n",
       "      <td>RJ</td>\n",
       "      <td>2007-11-06 02:00:00</td>\n",
       "      <td>2007-11-06</td>\n",
       "      <td>...</td>\n",
       "      <td>29.0</td>\n",
       "      <td>14.0</td>\n",
       "      <td>27.4</td>\n",
       "      <td>13.6</td>\n",
       "      <td>44</td>\n",
       "      <td>44</td>\n",
       "      <td>39</td>\n",
       "      <td>2.5</td>\n",
       "      <td>93</td>\n",
       "      <td>6.9</td>\n",
       "    </tr>\n",
       "    <tr>\n",
       "      <th>3</th>\n",
       "      <td>178</td>\n",
       "      <td>SÃO GONÇALO</td>\n",
       "      <td>237</td>\n",
       "      <td>-6.835777</td>\n",
       "      <td>-38.311583</td>\n",
       "      <td>A333</td>\n",
       "      <td>São Gonçalo</td>\n",
       "      <td>RJ</td>\n",
       "      <td>2007-11-06 03:00:00</td>\n",
       "      <td>2007-11-06</td>\n",
       "      <td>...</td>\n",
       "      <td>27.4</td>\n",
       "      <td>16.9</td>\n",
       "      <td>25.8</td>\n",
       "      <td>14.1</td>\n",
       "      <td>58</td>\n",
       "      <td>58</td>\n",
       "      <td>44</td>\n",
       "      <td>1.7</td>\n",
       "      <td>96</td>\n",
       "      <td>5.8</td>\n",
       "    </tr>\n",
       "    <tr>\n",
       "      <th>4</th>\n",
       "      <td>178</td>\n",
       "      <td>SÃO GONÇALO</td>\n",
       "      <td>237</td>\n",
       "      <td>-6.835777</td>\n",
       "      <td>-38.311583</td>\n",
       "      <td>A333</td>\n",
       "      <td>São Gonçalo</td>\n",
       "      <td>RJ</td>\n",
       "      <td>2007-11-06 04:00:00</td>\n",
       "      <td>2007-11-06</td>\n",
       "      <td>...</td>\n",
       "      <td>26.3</td>\n",
       "      <td>17.0</td>\n",
       "      <td>25.3</td>\n",
       "      <td>16.4</td>\n",
       "      <td>57</td>\n",
       "      <td>58</td>\n",
       "      <td>56</td>\n",
       "      <td>3.1</td>\n",
       "      <td>110</td>\n",
       "      <td>7.5</td>\n",
       "    </tr>\n",
       "  </tbody>\n",
       "</table>\n",
       "<p>5 rows × 31 columns</p>\n",
       "</div>"
      ],
      "text/plain": [
       "   wsid         wsnm  elvt       lat        lon  inme         city prov  \\\n",
       "0   178  SÃO GONÇALO   237 -6.835777 -38.311583  A333  São Gonçalo   RJ   \n",
       "1   178  SÃO GONÇALO   237 -6.835777 -38.311583  A333  São Gonçalo   RJ   \n",
       "2   178  SÃO GONÇALO   237 -6.835777 -38.311583  A333  São Gonçalo   RJ   \n",
       "3   178  SÃO GONÇALO   237 -6.835777 -38.311583  A333  São Gonçalo   RJ   \n",
       "4   178  SÃO GONÇALO   237 -6.835777 -38.311583  A333  São Gonçalo   RJ   \n",
       "\n",
       "                  mdct        date  ...   tmax  dmax  tmin  dmin  hmdy  hmax  \\\n",
       "0  2007-11-06 00:00:00  2007-11-06  ...   29.7  16.8  25.5  10.8    35    58   \n",
       "1  2007-11-06 01:00:00  2007-11-06  ...   29.9  13.6  29.0  12.2    39    39   \n",
       "2  2007-11-06 02:00:00  2007-11-06  ...   29.0  14.0  27.4  13.6    44    44   \n",
       "3  2007-11-06 03:00:00  2007-11-06  ...   27.4  16.9  25.8  14.1    58    58   \n",
       "4  2007-11-06 04:00:00  2007-11-06  ...   26.3  17.0  25.3  16.4    57    58   \n",
       "\n",
       "   hmin  wdsp  wdct  gust  \n",
       "0    32   3.2   101   6.5  \n",
       "1    35   3.6    94   6.4  \n",
       "2    39   2.5    93   6.9  \n",
       "3    44   1.7    96   5.8  \n",
       "4    56   3.1   110   7.5  \n",
       "\n",
       "[5 rows x 31 columns]"
      ]
     },
     "execution_count": 3,
     "metadata": {},
     "output_type": "execute_result"
    }
   ],
   "source": [
    "df = pd.read_csv('data.csv', index_col=None)\n",
    "df.drop('Unnamed: 0', axis=1, inplace=True)\n",
    "df.head()"
   ]
  },
  {
   "cell_type": "code",
   "execution_count": 3,
   "metadata": {
    "scrolled": true
   },
   "outputs": [
    {
     "name": "stdout",
     "output_type": "stream",
     "text": [
      "<class 'pandas.core.frame.DataFrame'>\n",
      "RangeIndex: 165000 entries, 0 to 164999\n",
      "Data columns (total 31 columns):\n",
      "wsid    165000 non-null int64\n",
      "wsnm    165000 non-null object\n",
      "elvt    165000 non-null int64\n",
      "lat     165000 non-null float64\n",
      "lon     165000 non-null float64\n",
      "inme    165000 non-null object\n",
      "city    165000 non-null object\n",
      "prov    165000 non-null object\n",
      "mdct    165000 non-null object\n",
      "date    165000 non-null object\n",
      "yr      165000 non-null int64\n",
      "mo      165000 non-null int64\n",
      "da      165000 non-null int64\n",
      "hr      165000 non-null int64\n",
      "prcp    20932 non-null float64\n",
      "stp     165000 non-null float64\n",
      "smax    165000 non-null float64\n",
      "smin    165000 non-null float64\n",
      "gbrd    95944 non-null float64\n",
      "temp    165000 non-null float64\n",
      "dewp    165000 non-null float64\n",
      "tmax    165000 non-null float64\n",
      "dmax    165000 non-null float64\n",
      "tmin    165000 non-null float64\n",
      "dmin    165000 non-null float64\n",
      "hmdy    165000 non-null int64\n",
      "hmax    165000 non-null int64\n",
      "hmin    165000 non-null int64\n",
      "wdsp    154867 non-null float64\n",
      "wdct    165000 non-null int64\n",
      "gust    162494 non-null float64\n",
      "dtypes: float64(15), int64(10), object(6)\n",
      "memory usage: 39.0+ MB\n"
     ]
    }
   ],
   "source": [
    "df.info()"
   ]
  },
  {
   "cell_type": "markdown",
   "metadata": {},
   "source": [
    "There are in total 165000 records with 31 features. Missing values are observed in 'prcp', 'gbrd', 'wdsp', 'gust'."
   ]
  },
  {
   "cell_type": "code",
   "execution_count": 4,
   "metadata": {
    "scrolled": true
   },
   "outputs": [
    {
     "data": {
      "text/html": [
       "<div>\n",
       "<style scoped>\n",
       "    .dataframe tbody tr th:only-of-type {\n",
       "        vertical-align: middle;\n",
       "    }\n",
       "\n",
       "    .dataframe tbody tr th {\n",
       "        vertical-align: top;\n",
       "    }\n",
       "\n",
       "    .dataframe thead th {\n",
       "        text-align: right;\n",
       "    }\n",
       "</style>\n",
       "<table border=\"1\" class=\"dataframe\">\n",
       "  <thead>\n",
       "    <tr style=\"text-align: right;\">\n",
       "      <th></th>\n",
       "      <th>count</th>\n",
       "      <th>unique</th>\n",
       "      <th>top</th>\n",
       "      <th>freq</th>\n",
       "      <th>mean</th>\n",
       "      <th>std</th>\n",
       "      <th>min</th>\n",
       "      <th>25%</th>\n",
       "      <th>50%</th>\n",
       "      <th>75%</th>\n",
       "      <th>max</th>\n",
       "    </tr>\n",
       "  </thead>\n",
       "  <tbody>\n",
       "    <tr>\n",
       "      <th>wsid</th>\n",
       "      <td>165000</td>\n",
       "      <td>NaN</td>\n",
       "      <td>NaN</td>\n",
       "      <td>NaN</td>\n",
       "      <td>243.873</td>\n",
       "      <td>62.4091</td>\n",
       "      <td>178</td>\n",
       "      <td>178</td>\n",
       "      <td>303</td>\n",
       "      <td>303</td>\n",
       "      <td>303</td>\n",
       "    </tr>\n",
       "    <tr>\n",
       "      <th>wsnm</th>\n",
       "      <td>165000</td>\n",
       "      <td>2</td>\n",
       "      <td>VITÓRIA</td>\n",
       "      <td>86952</td>\n",
       "      <td>NaN</td>\n",
       "      <td>NaN</td>\n",
       "      <td>NaN</td>\n",
       "      <td>NaN</td>\n",
       "      <td>NaN</td>\n",
       "      <td>NaN</td>\n",
       "      <td>NaN</td>\n",
       "    </tr>\n",
       "    <tr>\n",
       "      <th>elvt</th>\n",
       "      <td>165000</td>\n",
       "      <td>NaN</td>\n",
       "      <td>NaN</td>\n",
       "      <td>NaN</td>\n",
       "      <td>116.848</td>\n",
       "      <td>113.834</td>\n",
       "      <td>9</td>\n",
       "      <td>9</td>\n",
       "      <td>9</td>\n",
       "      <td>237</td>\n",
       "      <td>237</td>\n",
       "    </tr>\n",
       "    <tr>\n",
       "      <th>lat</th>\n",
       "      <td>165000</td>\n",
       "      <td>NaN</td>\n",
       "      <td>NaN</td>\n",
       "      <td>NaN</td>\n",
       "      <td>-13.9159</td>\n",
       "      <td>6.70789</td>\n",
       "      <td>-20.2711</td>\n",
       "      <td>-20.2711</td>\n",
       "      <td>-20.2711</td>\n",
       "      <td>-6.83578</td>\n",
       "      <td>-6.83578</td>\n",
       "    </tr>\n",
       "    <tr>\n",
       "      <th>lon</th>\n",
       "      <td>165000</td>\n",
       "      <td>NaN</td>\n",
       "      <td>NaN</td>\n",
       "      <td>NaN</td>\n",
       "      <td>-39.3626</td>\n",
       "      <td>0.995793</td>\n",
       "      <td>-40.3061</td>\n",
       "      <td>-40.3061</td>\n",
       "      <td>-40.3061</td>\n",
       "      <td>-38.3116</td>\n",
       "      <td>-38.3116</td>\n",
       "    </tr>\n",
       "    <tr>\n",
       "      <th>inme</th>\n",
       "      <td>165000</td>\n",
       "      <td>2</td>\n",
       "      <td>A612</td>\n",
       "      <td>86952</td>\n",
       "      <td>NaN</td>\n",
       "      <td>NaN</td>\n",
       "      <td>NaN</td>\n",
       "      <td>NaN</td>\n",
       "      <td>NaN</td>\n",
       "      <td>NaN</td>\n",
       "      <td>NaN</td>\n",
       "    </tr>\n",
       "    <tr>\n",
       "      <th>city</th>\n",
       "      <td>165000</td>\n",
       "      <td>2</td>\n",
       "      <td>Vitória</td>\n",
       "      <td>86952</td>\n",
       "      <td>NaN</td>\n",
       "      <td>NaN</td>\n",
       "      <td>NaN</td>\n",
       "      <td>NaN</td>\n",
       "      <td>NaN</td>\n",
       "      <td>NaN</td>\n",
       "      <td>NaN</td>\n",
       "    </tr>\n",
       "    <tr>\n",
       "      <th>prov</th>\n",
       "      <td>165000</td>\n",
       "      <td>2</td>\n",
       "      <td>ES</td>\n",
       "      <td>86952</td>\n",
       "      <td>NaN</td>\n",
       "      <td>NaN</td>\n",
       "      <td>NaN</td>\n",
       "      <td>NaN</td>\n",
       "      <td>NaN</td>\n",
       "      <td>NaN</td>\n",
       "      <td>NaN</td>\n",
       "    </tr>\n",
       "    <tr>\n",
       "      <th>mdct</th>\n",
       "      <td>165000</td>\n",
       "      <td>86952</td>\n",
       "      <td>2009-12-01 20:00:00</td>\n",
       "      <td>2</td>\n",
       "      <td>NaN</td>\n",
       "      <td>NaN</td>\n",
       "      <td>NaN</td>\n",
       "      <td>NaN</td>\n",
       "      <td>NaN</td>\n",
       "      <td>NaN</td>\n",
       "      <td>NaN</td>\n",
       "    </tr>\n",
       "    <tr>\n",
       "      <th>date</th>\n",
       "      <td>165000</td>\n",
       "      <td>3623</td>\n",
       "      <td>2008-07-06</td>\n",
       "      <td>48</td>\n",
       "      <td>NaN</td>\n",
       "      <td>NaN</td>\n",
       "      <td>NaN</td>\n",
       "      <td>NaN</td>\n",
       "      <td>NaN</td>\n",
       "      <td>NaN</td>\n",
       "      <td>NaN</td>\n",
       "    </tr>\n",
       "    <tr>\n",
       "      <th>yr</th>\n",
       "      <td>165000</td>\n",
       "      <td>NaN</td>\n",
       "      <td>NaN</td>\n",
       "      <td>NaN</td>\n",
       "      <td>2011.53</td>\n",
       "      <td>2.75485</td>\n",
       "      <td>2006</td>\n",
       "      <td>2009</td>\n",
       "      <td>2012</td>\n",
       "      <td>2014</td>\n",
       "      <td>2016</td>\n",
       "    </tr>\n",
       "    <tr>\n",
       "      <th>mo</th>\n",
       "      <td>165000</td>\n",
       "      <td>NaN</td>\n",
       "      <td>NaN</td>\n",
       "      <td>NaN</td>\n",
       "      <td>6.488</td>\n",
       "      <td>3.44765</td>\n",
       "      <td>1</td>\n",
       "      <td>4</td>\n",
       "      <td>6</td>\n",
       "      <td>9</td>\n",
       "      <td>12</td>\n",
       "    </tr>\n",
       "    <tr>\n",
       "      <th>da</th>\n",
       "      <td>165000</td>\n",
       "      <td>NaN</td>\n",
       "      <td>NaN</td>\n",
       "      <td>NaN</td>\n",
       "      <td>15.7411</td>\n",
       "      <td>8.79749</td>\n",
       "      <td>1</td>\n",
       "      <td>8</td>\n",
       "      <td>16</td>\n",
       "      <td>23</td>\n",
       "      <td>31</td>\n",
       "    </tr>\n",
       "    <tr>\n",
       "      <th>hr</th>\n",
       "      <td>165000</td>\n",
       "      <td>NaN</td>\n",
       "      <td>NaN</td>\n",
       "      <td>NaN</td>\n",
       "      <td>11.5</td>\n",
       "      <td>6.92221</td>\n",
       "      <td>0</td>\n",
       "      <td>5.75</td>\n",
       "      <td>11.5</td>\n",
       "      <td>17.25</td>\n",
       "      <td>23</td>\n",
       "    </tr>\n",
       "    <tr>\n",
       "      <th>prcp</th>\n",
       "      <td>20932</td>\n",
       "      <td>NaN</td>\n",
       "      <td>NaN</td>\n",
       "      <td>NaN</td>\n",
       "      <td>0.987235</td>\n",
       "      <td>3.20148</td>\n",
       "      <td>0</td>\n",
       "      <td>0</td>\n",
       "      <td>0</td>\n",
       "      <td>0.6</td>\n",
       "      <td>70.2</td>\n",
       "    </tr>\n",
       "    <tr>\n",
       "      <th>stp</th>\n",
       "      <td>165000</td>\n",
       "      <td>NaN</td>\n",
       "      <td>NaN</td>\n",
       "      <td>NaN</td>\n",
       "      <td>948.605</td>\n",
       "      <td>325.451</td>\n",
       "      <td>0</td>\n",
       "      <td>985.1</td>\n",
       "      <td>1009.4</td>\n",
       "      <td>1016</td>\n",
       "      <td>8766.7</td>\n",
       "    </tr>\n",
       "    <tr>\n",
       "      <th>smax</th>\n",
       "      <td>165000</td>\n",
       "      <td>NaN</td>\n",
       "      <td>NaN</td>\n",
       "      <td>NaN</td>\n",
       "      <td>1017.06</td>\n",
       "      <td>969.108</td>\n",
       "      <td>0</td>\n",
       "      <td>985.4</td>\n",
       "      <td>1009.7</td>\n",
       "      <td>1016.3</td>\n",
       "      <td>45761.9</td>\n",
       "    </tr>\n",
       "    <tr>\n",
       "      <th>smin</th>\n",
       "      <td>165000</td>\n",
       "      <td>NaN</td>\n",
       "      <td>NaN</td>\n",
       "      <td>NaN</td>\n",
       "      <td>1001.24</td>\n",
       "      <td>903.448</td>\n",
       "      <td>0</td>\n",
       "      <td>984.8</td>\n",
       "      <td>1008.9</td>\n",
       "      <td>1015.7</td>\n",
       "      <td>43396.2</td>\n",
       "    </tr>\n",
       "    <tr>\n",
       "      <th>gbrd</th>\n",
       "      <td>95944</td>\n",
       "      <td>NaN</td>\n",
       "      <td>NaN</td>\n",
       "      <td>NaN</td>\n",
       "      <td>1366.56</td>\n",
       "      <td>1206.08</td>\n",
       "      <td>0</td>\n",
       "      <td>119.487</td>\n",
       "      <td>1186.65</td>\n",
       "      <td>2399.67</td>\n",
       "      <td>4238.25</td>\n",
       "    </tr>\n",
       "    <tr>\n",
       "      <th>temp</th>\n",
       "      <td>165000</td>\n",
       "      <td>NaN</td>\n",
       "      <td>NaN</td>\n",
       "      <td>NaN</td>\n",
       "      <td>23.7818</td>\n",
       "      <td>7.72935</td>\n",
       "      <td>0</td>\n",
       "      <td>22.1</td>\n",
       "      <td>24.8</td>\n",
       "      <td>28.1</td>\n",
       "      <td>38.6</td>\n",
       "    </tr>\n",
       "    <tr>\n",
       "      <th>dewp</th>\n",
       "      <td>165000</td>\n",
       "      <td>NaN</td>\n",
       "      <td>NaN</td>\n",
       "      <td>NaN</td>\n",
       "      <td>17.4336</td>\n",
       "      <td>5.69628</td>\n",
       "      <td>0</td>\n",
       "      <td>16.3</td>\n",
       "      <td>18.9</td>\n",
       "      <td>21</td>\n",
       "      <td>30.9</td>\n",
       "    </tr>\n",
       "    <tr>\n",
       "      <th>tmax</th>\n",
       "      <td>165000</td>\n",
       "      <td>NaN</td>\n",
       "      <td>NaN</td>\n",
       "      <td>NaN</td>\n",
       "      <td>24.3918</td>\n",
       "      <td>7.98092</td>\n",
       "      <td>0</td>\n",
       "      <td>22.6</td>\n",
       "      <td>25.5</td>\n",
       "      <td>28.9</td>\n",
       "      <td>39.3</td>\n",
       "    </tr>\n",
       "    <tr>\n",
       "      <th>dmax</th>\n",
       "      <td>165000</td>\n",
       "      <td>NaN</td>\n",
       "      <td>NaN</td>\n",
       "      <td>NaN</td>\n",
       "      <td>17.9459</td>\n",
       "      <td>5.7901</td>\n",
       "      <td>0</td>\n",
       "      <td>16.9</td>\n",
       "      <td>19.5</td>\n",
       "      <td>21.5</td>\n",
       "      <td>30.9</td>\n",
       "    </tr>\n",
       "    <tr>\n",
       "      <th>tmin</th>\n",
       "      <td>165000</td>\n",
       "      <td>NaN</td>\n",
       "      <td>NaN</td>\n",
       "      <td>NaN</td>\n",
       "      <td>23.1636</td>\n",
       "      <td>7.52301</td>\n",
       "      <td>0</td>\n",
       "      <td>21.6</td>\n",
       "      <td>24.3</td>\n",
       "      <td>27.2</td>\n",
       "      <td>38</td>\n",
       "    </tr>\n",
       "    <tr>\n",
       "      <th>dmin</th>\n",
       "      <td>165000</td>\n",
       "      <td>NaN</td>\n",
       "      <td>NaN</td>\n",
       "      <td>NaN</td>\n",
       "      <td>16.9105</td>\n",
       "      <td>5.65307</td>\n",
       "      <td>0</td>\n",
       "      <td>15.6</td>\n",
       "      <td>18.4</td>\n",
       "      <td>20.5</td>\n",
       "      <td>29.1</td>\n",
       "    </tr>\n",
       "    <tr>\n",
       "      <th>hmdy</th>\n",
       "      <td>165000</td>\n",
       "      <td>NaN</td>\n",
       "      <td>NaN</td>\n",
       "      <td>NaN</td>\n",
       "      <td>64.3492</td>\n",
       "      <td>25.8659</td>\n",
       "      <td>0</td>\n",
       "      <td>52</td>\n",
       "      <td>69</td>\n",
       "      <td>85</td>\n",
       "      <td>100</td>\n",
       "    </tr>\n",
       "    <tr>\n",
       "      <th>hmax</th>\n",
       "      <td>165000</td>\n",
       "      <td>NaN</td>\n",
       "      <td>NaN</td>\n",
       "      <td>NaN</td>\n",
       "      <td>67.2049</td>\n",
       "      <td>25.9062</td>\n",
       "      <td>0</td>\n",
       "      <td>56</td>\n",
       "      <td>73</td>\n",
       "      <td>88</td>\n",
       "      <td>100</td>\n",
       "    </tr>\n",
       "    <tr>\n",
       "      <th>hmin</th>\n",
       "      <td>165000</td>\n",
       "      <td>NaN</td>\n",
       "      <td>NaN</td>\n",
       "      <td>NaN</td>\n",
       "      <td>61.3329</td>\n",
       "      <td>25.7767</td>\n",
       "      <td>0</td>\n",
       "      <td>48</td>\n",
       "      <td>65</td>\n",
       "      <td>81</td>\n",
       "      <td>100</td>\n",
       "    </tr>\n",
       "    <tr>\n",
       "      <th>wdsp</th>\n",
       "      <td>154867</td>\n",
       "      <td>NaN</td>\n",
       "      <td>NaN</td>\n",
       "      <td>NaN</td>\n",
       "      <td>1.76648</td>\n",
       "      <td>1.17669</td>\n",
       "      <td>0</td>\n",
       "      <td>0.9</td>\n",
       "      <td>1.6</td>\n",
       "      <td>2.6</td>\n",
       "      <td>19.1</td>\n",
       "    </tr>\n",
       "    <tr>\n",
       "      <th>wdct</th>\n",
       "      <td>165000</td>\n",
       "      <td>NaN</td>\n",
       "      <td>NaN</td>\n",
       "      <td>NaN</td>\n",
       "      <td>148.677</td>\n",
       "      <td>108.982</td>\n",
       "      <td>0</td>\n",
       "      <td>61</td>\n",
       "      <td>124</td>\n",
       "      <td>218</td>\n",
       "      <td>360</td>\n",
       "    </tr>\n",
       "    <tr>\n",
       "      <th>gust</th>\n",
       "      <td>162494</td>\n",
       "      <td>NaN</td>\n",
       "      <td>NaN</td>\n",
       "      <td>NaN</td>\n",
       "      <td>4.76216</td>\n",
       "      <td>2.83387</td>\n",
       "      <td>0</td>\n",
       "      <td>2.5</td>\n",
       "      <td>4.7</td>\n",
       "      <td>6.8</td>\n",
       "      <td>22.7</td>\n",
       "    </tr>\n",
       "  </tbody>\n",
       "</table>\n",
       "</div>"
      ],
      "text/plain": [
       "       count unique                  top   freq      mean       std      min  \\\n",
       "wsid  165000    NaN                  NaN    NaN   243.873   62.4091      178   \n",
       "wsnm  165000      2              VITÓRIA  86952       NaN       NaN      NaN   \n",
       "elvt  165000    NaN                  NaN    NaN   116.848   113.834        9   \n",
       "lat   165000    NaN                  NaN    NaN  -13.9159   6.70789 -20.2711   \n",
       "lon   165000    NaN                  NaN    NaN  -39.3626  0.995793 -40.3061   \n",
       "inme  165000      2                 A612  86952       NaN       NaN      NaN   \n",
       "city  165000      2              Vitória  86952       NaN       NaN      NaN   \n",
       "prov  165000      2                   ES  86952       NaN       NaN      NaN   \n",
       "mdct  165000  86952  2009-12-01 20:00:00      2       NaN       NaN      NaN   \n",
       "date  165000   3623           2008-07-06     48       NaN       NaN      NaN   \n",
       "yr    165000    NaN                  NaN    NaN   2011.53   2.75485     2006   \n",
       "mo    165000    NaN                  NaN    NaN     6.488   3.44765        1   \n",
       "da    165000    NaN                  NaN    NaN   15.7411   8.79749        1   \n",
       "hr    165000    NaN                  NaN    NaN      11.5   6.92221        0   \n",
       "prcp   20932    NaN                  NaN    NaN  0.987235   3.20148        0   \n",
       "stp   165000    NaN                  NaN    NaN   948.605   325.451        0   \n",
       "smax  165000    NaN                  NaN    NaN   1017.06   969.108        0   \n",
       "smin  165000    NaN                  NaN    NaN   1001.24   903.448        0   \n",
       "gbrd   95944    NaN                  NaN    NaN   1366.56   1206.08        0   \n",
       "temp  165000    NaN                  NaN    NaN   23.7818   7.72935        0   \n",
       "dewp  165000    NaN                  NaN    NaN   17.4336   5.69628        0   \n",
       "tmax  165000    NaN                  NaN    NaN   24.3918   7.98092        0   \n",
       "dmax  165000    NaN                  NaN    NaN   17.9459    5.7901        0   \n",
       "tmin  165000    NaN                  NaN    NaN   23.1636   7.52301        0   \n",
       "dmin  165000    NaN                  NaN    NaN   16.9105   5.65307        0   \n",
       "hmdy  165000    NaN                  NaN    NaN   64.3492   25.8659        0   \n",
       "hmax  165000    NaN                  NaN    NaN   67.2049   25.9062        0   \n",
       "hmin  165000    NaN                  NaN    NaN   61.3329   25.7767        0   \n",
       "wdsp  154867    NaN                  NaN    NaN   1.76648   1.17669        0   \n",
       "wdct  165000    NaN                  NaN    NaN   148.677   108.982        0   \n",
       "gust  162494    NaN                  NaN    NaN   4.76216   2.83387        0   \n",
       "\n",
       "          25%      50%      75%      max  \n",
       "wsid      178      303      303      303  \n",
       "wsnm      NaN      NaN      NaN      NaN  \n",
       "elvt        9        9      237      237  \n",
       "lat  -20.2711 -20.2711 -6.83578 -6.83578  \n",
       "lon  -40.3061 -40.3061 -38.3116 -38.3116  \n",
       "inme      NaN      NaN      NaN      NaN  \n",
       "city      NaN      NaN      NaN      NaN  \n",
       "prov      NaN      NaN      NaN      NaN  \n",
       "mdct      NaN      NaN      NaN      NaN  \n",
       "date      NaN      NaN      NaN      NaN  \n",
       "yr       2009     2012     2014     2016  \n",
       "mo          4        6        9       12  \n",
       "da          8       16       23       31  \n",
       "hr       5.75     11.5    17.25       23  \n",
       "prcp        0        0      0.6     70.2  \n",
       "stp     985.1   1009.4     1016   8766.7  \n",
       "smax    985.4   1009.7   1016.3  45761.9  \n",
       "smin    984.8   1008.9   1015.7  43396.2  \n",
       "gbrd  119.487  1186.65  2399.67  4238.25  \n",
       "temp     22.1     24.8     28.1     38.6  \n",
       "dewp     16.3     18.9       21     30.9  \n",
       "tmax     22.6     25.5     28.9     39.3  \n",
       "dmax     16.9     19.5     21.5     30.9  \n",
       "tmin     21.6     24.3     27.2       38  \n",
       "dmin     15.6     18.4     20.5     29.1  \n",
       "hmdy       52       69       85      100  \n",
       "hmax       56       73       88      100  \n",
       "hmin       48       65       81      100  \n",
       "wdsp      0.9      1.6      2.6     19.1  \n",
       "wdct       61      124      218      360  \n",
       "gust      2.5      4.7      6.8     22.7  "
      ]
     },
     "execution_count": 4,
     "metadata": {},
     "output_type": "execute_result"
    }
   ],
   "source": [
    "df.describe(include='all').T"
   ]
  },
  {
   "cell_type": "markdown",
   "metadata": {},
   "source": [
    "Check other features.\n",
    "- I don't think we can drop any feature except prov, city, wsid, wsnm, date, mdct\n",
    "- elvt: now we don't really know the meaning of this feature; need further check\n",
    "- log, lat seems okay according to the [geographical location of Brazil](https://www.quora.com/What-is-the-latitude-and-longitude-extent-of-Brazil)\n",
    "- yr: there's not data from pre-2006 years"
   ]
  },
  {
   "cell_type": "code",
   "execution_count": 8,
   "metadata": {},
   "outputs": [
    {
     "data": {
      "text/plain": [
       "True     144068\n",
       "False     20932\n",
       "Name: prcp, dtype: int64"
      ]
     },
     "execution_count": 8,
     "metadata": {},
     "output_type": "execute_result"
    }
   ],
   "source": [
    "df.prcp.isnull().value_counts()"
   ]
  },
  {
   "cell_type": "markdown",
   "metadata": {},
   "source": [
    "Only 1/8 of all records have values in target variable. We assume that after filling the empty entries, the model would be to certain degree diverged from the true distribution of the data (but we have no choice...)"
   ]
  },
  {
   "cell_type": "markdown",
   "metadata": {},
   "source": [
    "We also observed that in the csv file, there are regions completely filled with zeros, including features such as 'temp' and 'wdsp', which have a very small odds to be zero. Thus, there must be some error for these records, and we chose to directly drop them. "
   ]
  },
  {
   "cell_type": "code",
   "execution_count": 4,
   "metadata": {},
   "outputs": [
    {
     "name": "stdout",
     "output_type": "stream",
     "text": [
      "11833 (153167, 31)\n"
     ]
    }
   ],
   "source": [
    "# remove all zero records\n",
    "to_drop = df[(df.prcp==0)&(df.temp==0)].index\n",
    "df.drop(to_drop, inplace=True)\n",
    "print(len(to_drop), df.shape)"
   ]
  },
  {
   "cell_type": "code",
   "execution_count": 5,
   "metadata": {},
   "outputs": [
    {
     "data": {
      "text/plain": [
       "True     144068\n",
       "False      9099\n",
       "Name: prcp, dtype: int64"
      ]
     },
     "execution_count": 5,
     "metadata": {},
     "output_type": "execute_result"
    }
   ],
   "source": [
    "df.prcp.isnull().value_counts()"
   ]
  },
  {
   "cell_type": "code",
   "execution_count": 6,
   "metadata": {},
   "outputs": [
    {
     "data": {
      "text/plain": [
       "9097"
      ]
     },
     "execution_count": 6,
     "metadata": {},
     "output_type": "execute_result"
    }
   ],
   "source": [
    "len(df.loc[(df['prcp'] != 0) & (~df.prcp.isnull())])"
   ]
  },
  {
   "cell_type": "markdown",
   "metadata": {},
   "source": [
    "After dropping erroneous records, there are even fewer with non-empty prcp. And even more extremely, there are only 2 records that we are sure that for that hour there is zero precipitation; for others, we could only guess for the real situation..."
   ]
  },
  {
   "cell_type": "code",
   "execution_count": 7,
   "metadata": {
    "scrolled": true
   },
   "outputs": [
    {
     "data": {
      "text/plain": [
       "Vitória        85925\n",
       "São Gonçalo    67242\n",
       "Name: city, dtype: int64"
      ]
     },
     "execution_count": 7,
     "metadata": {},
     "output_type": "execute_result"
    }
   ],
   "source": [
    "df.city.value_counts()"
   ]
  },
  {
   "cell_type": "code",
   "execution_count": 8,
   "metadata": {},
   "outputs": [
    {
     "data": {
      "text/plain": [
       "7076"
      ]
     },
     "execution_count": 8,
     "metadata": {},
     "output_type": "execute_result"
    }
   ],
   "source": [
    "len(df.loc[(df['prcp'] != 0) & (~df.prcp.isnull()) & (df.city=='Vitória')])"
   ]
  },
  {
   "cell_type": "markdown",
   "metadata": {},
   "source": [
    "We chose Vitória because there are more useful data points (7000+/9000+)."
   ]
  },
  {
   "cell_type": "markdown",
   "metadata": {},
   "source": [
    "### Choose a city\n",
    "<a id='city'></a>"
   ]
  },
  {
   "cell_type": "markdown",
   "metadata": {},
   "source": [
    "#### Thorough cleaning\n",
    "<a id='clean'></a>"
   ]
  },
  {
   "cell_type": "code",
   "execution_count": 9,
   "metadata": {},
   "outputs": [
    {
     "data": {
      "text/plain": [
       "(85925, 31)"
      ]
     },
     "execution_count": 9,
     "metadata": {},
     "output_type": "execute_result"
    }
   ],
   "source": [
    "dfv = df[df['city'] == 'Vitória'].copy()\n",
    "dfv.shape"
   ]
  },
  {
   "cell_type": "code",
   "execution_count": 10,
   "metadata": {},
   "outputs": [
    {
     "name": "stdout",
     "output_type": "stream",
     "text": [
      "\n",
      "prcp\n",
      "True     78849\n",
      "False     7076\n",
      "Name: prcp, dtype: int64\n",
      "\n",
      "gbrd\n",
      "False    49796\n",
      "True     36129\n",
      "Name: gbrd, dtype: int64\n",
      "\n",
      "wdsp\n",
      "False    85925\n",
      "Name: wdsp, dtype: int64\n",
      "\n",
      "gust\n",
      "False    85925\n",
      "Name: gust, dtype: int64\n"
     ]
    }
   ],
   "source": [
    "for col in ['prcp', 'gbrd', 'wdsp', 'gust']:\n",
    "    print('\\n' + col)\n",
    "    print(dfv[col].isnull().value_counts())"
   ]
  },
  {
   "cell_type": "code",
   "execution_count": 12,
   "metadata": {
    "scrolled": true
   },
   "outputs": [
    {
     "name": "stdout",
     "output_type": "stream",
     "text": [
      "False    85925\n",
      "Name: prcp, dtype: int64\n"
     ]
    }
   ],
   "source": [
    "dfv.prcp.fillna(value=0, inplace=True)\n",
    "print(dfv.prcp.isnull().value_counts())"
   ]
  },
  {
   "cell_type": "markdown",
   "metadata": {},
   "source": [
    "We chose to fill 'prcp' with zero, assuming the empty entries mean that for that hour the station didn't observe precipitation. We though about filling with monthly average precipitation, but then there is almost no records with a binary target of 0, which is not good for the model."
   ]
  },
  {
   "cell_type": "code",
   "execution_count": 13,
   "metadata": {},
   "outputs": [
    {
     "data": {
      "text/html": [
       "<div>\n",
       "<style scoped>\n",
       "    .dataframe tbody tr th:only-of-type {\n",
       "        vertical-align: middle;\n",
       "    }\n",
       "\n",
       "    .dataframe tbody tr th {\n",
       "        vertical-align: top;\n",
       "    }\n",
       "\n",
       "    .dataframe thead th {\n",
       "        text-align: right;\n",
       "    }\n",
       "</style>\n",
       "<table border=\"1\" class=\"dataframe\">\n",
       "  <thead>\n",
       "    <tr style=\"text-align: right;\">\n",
       "      <th></th>\n",
       "      <th>gbrd</th>\n",
       "    </tr>\n",
       "    <tr>\n",
       "      <th>hr</th>\n",
       "      <th></th>\n",
       "    </tr>\n",
       "  </thead>\n",
       "  <tbody>\n",
       "    <tr>\n",
       "      <th>0</th>\n",
       "      <td>NaN</td>\n",
       "    </tr>\n",
       "    <tr>\n",
       "      <th>1</th>\n",
       "      <td>NaN</td>\n",
       "    </tr>\n",
       "    <tr>\n",
       "      <th>2</th>\n",
       "      <td>NaN</td>\n",
       "    </tr>\n",
       "    <tr>\n",
       "      <th>3</th>\n",
       "      <td>NaN</td>\n",
       "    </tr>\n",
       "    <tr>\n",
       "      <th>4</th>\n",
       "      <td>NaN</td>\n",
       "    </tr>\n",
       "    <tr>\n",
       "      <th>5</th>\n",
       "      <td>NaN</td>\n",
       "    </tr>\n",
       "    <tr>\n",
       "      <th>6</th>\n",
       "      <td>NaN</td>\n",
       "    </tr>\n",
       "    <tr>\n",
       "      <th>7</th>\n",
       "      <td>NaN</td>\n",
       "    </tr>\n",
       "    <tr>\n",
       "      <th>8</th>\n",
       "      <td>NaN</td>\n",
       "    </tr>\n",
       "    <tr>\n",
       "      <th>9</th>\n",
       "      <td>57.351554</td>\n",
       "    </tr>\n",
       "    <tr>\n",
       "      <th>10</th>\n",
       "      <td>383.687081</td>\n",
       "    </tr>\n",
       "    <tr>\n",
       "      <th>11</th>\n",
       "      <td>991.849141</td>\n",
       "    </tr>\n",
       "    <tr>\n",
       "      <th>12</th>\n",
       "      <td>1589.182167</td>\n",
       "    </tr>\n",
       "    <tr>\n",
       "      <th>13</th>\n",
       "      <td>2078.081448</td>\n",
       "    </tr>\n",
       "    <tr>\n",
       "      <th>14</th>\n",
       "      <td>2388.660126</td>\n",
       "    </tr>\n",
       "    <tr>\n",
       "      <th>15</th>\n",
       "      <td>2533.125906</td>\n",
       "    </tr>\n",
       "    <tr>\n",
       "      <th>16</th>\n",
       "      <td>2479.518050</td>\n",
       "    </tr>\n",
       "    <tr>\n",
       "      <th>17</th>\n",
       "      <td>2208.100682</td>\n",
       "    </tr>\n",
       "    <tr>\n",
       "      <th>18</th>\n",
       "      <td>1714.839068</td>\n",
       "    </tr>\n",
       "    <tr>\n",
       "      <th>19</th>\n",
       "      <td>1105.068138</td>\n",
       "    </tr>\n",
       "    <tr>\n",
       "      <th>20</th>\n",
       "      <td>453.330935</td>\n",
       "    </tr>\n",
       "    <tr>\n",
       "      <th>21</th>\n",
       "      <td>78.075656</td>\n",
       "    </tr>\n",
       "    <tr>\n",
       "      <th>22</th>\n",
       "      <td>1.203109</td>\n",
       "    </tr>\n",
       "    <tr>\n",
       "      <th>23</th>\n",
       "      <td>NaN</td>\n",
       "    </tr>\n",
       "  </tbody>\n",
       "</table>\n",
       "</div>"
      ],
      "text/plain": [
       "           gbrd\n",
       "hr             \n",
       "0           NaN\n",
       "1           NaN\n",
       "2           NaN\n",
       "3           NaN\n",
       "4           NaN\n",
       "5           NaN\n",
       "6           NaN\n",
       "7           NaN\n",
       "8           NaN\n",
       "9     57.351554\n",
       "10   383.687081\n",
       "11   991.849141\n",
       "12  1589.182167\n",
       "13  2078.081448\n",
       "14  2388.660126\n",
       "15  2533.125906\n",
       "16  2479.518050\n",
       "17  2208.100682\n",
       "18  1714.839068\n",
       "19  1105.068138\n",
       "20   453.330935\n",
       "21    78.075656\n",
       "22     1.203109\n",
       "23          NaN"
      ]
     },
     "execution_count": 13,
     "metadata": {},
     "output_type": "execute_result"
    }
   ],
   "source": [
    "# fill gbrd with hourly average\n",
    "dfv[['hr', 'gbrd']].groupby('hr').mean()"
   ]
  },
  {
   "cell_type": "code",
   "execution_count": 14,
   "metadata": {},
   "outputs": [
    {
     "data": {
      "text/plain": [
       "False    85925\n",
       "Name: gbrd, dtype: int64"
      ]
     },
     "execution_count": 14,
     "metadata": {},
     "output_type": "execute_result"
    }
   ],
   "source": [
    "gbrd = dfv[['hr', 'gbrd']].groupby('hr').mean()\n",
    "gbrd.fillna(value=0, inplace=True)\n",
    "avg_gbrd_per_hour = gbrd.values.ravel().tolist()\n",
    "for i in range(0,24):\n",
    "    dfv.loc[(dfv.hr==i)&(dfv.gbrd.isnull()), 'gbrd'] = avg_gbrd_per_hour[i-1]\n",
    "dfv.gbrd.isnull().value_counts()"
   ]
  },
  {
   "cell_type": "markdown",
   "metadata": {},
   "source": [
    "We chose to fill 'gbrd' with hourly average. This variable means solar radiation, and from common sense we are quite sure that each hour of the day the radiation value would be to certain degree similar."
   ]
  },
  {
   "cell_type": "code",
   "execution_count": 15,
   "metadata": {},
   "outputs": [
    {
     "data": {
      "text/plain": [
       "Text(0.5,1,'smax')"
      ]
     },
     "execution_count": 15,
     "metadata": {},
     "output_type": "execute_result"
    },
    {
     "data": {
      "image/png": "[encoded data removed]",
      "text/plain": [
       "<Figure size 1080x288 with 3 Axes>"
      ]
     },
     "metadata": {
      "needs_background": "light"
     },
     "output_type": "display_data"
    }
   ],
   "source": [
    "fig, axes = plt.subplots(1, 3, figsize=(15, 4))\n",
    "sns.distplot(dfv.stp, ax=axes[0])\n",
    "sns.distplot(dfv.smin, ax=axes[1])\n",
    "sns.distplot(dfv.smax, ax=axes[2])\n",
    "axes[0].set_title('stp')\n",
    "axes[1].set_title('smin')\n",
    "axes[2].set_title('smax')\n",
    "\n",
    "# highly right skewed"
   ]
  },
  {
   "cell_type": "code",
   "execution_count": 16,
   "metadata": {
    "scrolled": true
   },
   "outputs": [
    {
     "data": {
      "text/plain": [
       "80207     6512.5\n",
       "82875     6332.2\n",
       "92432     8554.8\n",
       "101577    6709.7\n",
       "108128    6509.5\n",
       "111273    7298.8\n",
       "115198    6097.4\n",
       "119957    7169.4\n",
       "124182    6124.4\n",
       "130361    6854.8\n",
       "130612    6629.7\n",
       "132941    8500.9\n",
       "137309    6626.9\n",
       "139065    8766.7\n",
       "155411    6473.9\n",
       "Name: stp, dtype: float64"
      ]
     },
     "execution_count": 16,
     "metadata": {},
     "output_type": "execute_result"
    }
   ],
   "source": [
    "dfv.loc[dfv.stp > 6000, 'stp']"
   ]
  },
  {
   "cell_type": "code",
   "execution_count": 19,
   "metadata": {
    "scrolled": true
   },
   "outputs": [
    {
     "name": "stdout",
     "output_type": "stream",
     "text": [
      "\n",
      "stp\n",
      "# data to remove: 859\n",
      "# data remained: 83486\n"
     ]
    }
   ],
   "source": [
    "# for col in ['stp', 'smin', 'smax']:\n",
    "for col in ['stp']:\n",
    "    dfv['zscore'] = np.abs(stats.zscore(dfv[col]))\n",
    "    print('\\n' + col)\n",
    "    to_drop = dfv[dfv.zscore >= 3].index   \n",
    "    print('# data to remove:', len(to_drop))\n",
    "    dfv.drop(to_drop, axis=0, inplace=True)\n",
    "    print('# data remained:', dfv.shape[0])\n",
    "    dfv.drop('zscore', axis=1, inplace=True)"
   ]
  },
  {
   "cell_type": "code",
   "execution_count": 20,
   "metadata": {},
   "outputs": [
    {
     "data": {
      "text/plain": [
       "Text(0.5,1,'smax')"
      ]
     },
     "execution_count": 20,
     "metadata": {},
     "output_type": "execute_result"
    },
    {
     "data": {
      "image/png": "[encoded data removed]",
      "text/plain": [
       "<Figure size 1080x288 with 3 Axes>"
      ]
     },
     "metadata": {
      "needs_background": "light"
     },
     "output_type": "display_data"
    }
   ],
   "source": [
    "fig, axes = plt.subplots(1, 3, figsize=(15, 4))\n",
    "sns.distplot(dfv.stp, ax=axes[0])\n",
    "sns.distplot(dfv.smin, ax=axes[1])\n",
    "sns.distplot(dfv.smax, ax=axes[2])\n",
    "axes[0].set_title('stp')\n",
    "axes[1].set_title('smin')\n",
    "axes[2].set_title('smax')\n",
    "\n",
    "# but.... still right skewed"
   ]
  },
  {
   "cell_type": "markdown",
   "metadata": {},
   "source": [
    "For variables related to air pressure, we plotted the ditributions before and after removing outliers. We consider those with values 3 standard derivation from mean as outliers by calculating the z-score. After outlier removal, the distributions are still right skewed. We hypothesized that for non-raining days the air pressure is low while for raining days it's high, and there are far more non-raining days in the city of Vitória than raining ones. This also fit our action to fill zero for 'prcp'."
   ]
  },
  {
   "cell_type": "markdown",
   "metadata": {},
   "source": [
    "#### Feature engineering\n",
    "<a id='feature'></a>"
   ]
  },
  {
   "cell_type": "code",
   "execution_count": 21,
   "metadata": {},
   "outputs": [
    {
     "data": {
      "text/plain": [
       "0    76410\n",
       "1     7076\n",
       "Name: rain, dtype: int64"
      ]
     },
     "execution_count": 21,
     "metadata": {},
     "output_type": "execute_result"
    }
   ],
   "source": [
    "# add binary target for logistic regression\n",
    "dfv['rain'] = 0\n",
    "dfv.loc[dfv.prcp > 0, 'rain'] = 1\n",
    "dfv.rain.value_counts()"
   ]
  },
  {
   "cell_type": "code",
   "execution_count": 22,
   "metadata": {},
   "outputs": [
    {
     "data": {
      "text/plain": [
       "9    83486\n",
       "Name: elvt, dtype: int64"
      ]
     },
     "execution_count": 22,
     "metadata": {},
     "output_type": "execute_result"
    }
   ],
   "source": [
    "dfv.elvt.value_counts()"
   ]
  },
  {
   "cell_type": "code",
   "execution_count": 23,
   "metadata": {},
   "outputs": [
    {
     "data": {
      "text/html": [
       "<div>\n",
       "<style scoped>\n",
       "    .dataframe tbody tr th:only-of-type {\n",
       "        vertical-align: middle;\n",
       "    }\n",
       "\n",
       "    .dataframe tbody tr th {\n",
       "        vertical-align: top;\n",
       "    }\n",
       "\n",
       "    .dataframe thead th {\n",
       "        text-align: right;\n",
       "    }\n",
       "</style>\n",
       "<table border=\"1\" class=\"dataframe\">\n",
       "  <thead>\n",
       "    <tr style=\"text-align: right;\">\n",
       "      <th></th>\n",
       "      <th>yr</th>\n",
       "      <th>mo</th>\n",
       "      <th>da</th>\n",
       "      <th>hr</th>\n",
       "      <th>prcp</th>\n",
       "      <th>stp</th>\n",
       "      <th>smax</th>\n",
       "      <th>smin</th>\n",
       "      <th>gbrd</th>\n",
       "      <th>temp</th>\n",
       "      <th>...</th>\n",
       "      <th>dmax</th>\n",
       "      <th>tmin</th>\n",
       "      <th>dmin</th>\n",
       "      <th>hmdy</th>\n",
       "      <th>hmax</th>\n",
       "      <th>hmin</th>\n",
       "      <th>wdsp</th>\n",
       "      <th>wdct</th>\n",
       "      <th>gust</th>\n",
       "      <th>rain</th>\n",
       "    </tr>\n",
       "  </thead>\n",
       "  <tbody>\n",
       "    <tr>\n",
       "      <th>0</th>\n",
       "      <td>2006</td>\n",
       "      <td>10</td>\n",
       "      <td>31</td>\n",
       "      <td>16</td>\n",
       "      <td>0.0</td>\n",
       "      <td>1010.9</td>\n",
       "      <td>1011.8</td>\n",
       "      <td>1010.9</td>\n",
       "      <td>2477.841</td>\n",
       "      <td>27.4</td>\n",
       "      <td>...</td>\n",
       "      <td>22.5</td>\n",
       "      <td>26.2</td>\n",
       "      <td>21.2</td>\n",
       "      <td>72</td>\n",
       "      <td>76</td>\n",
       "      <td>71</td>\n",
       "      <td>4.3</td>\n",
       "      <td>28</td>\n",
       "      <td>10.3</td>\n",
       "      <td>0</td>\n",
       "    </tr>\n",
       "    <tr>\n",
       "      <th>1</th>\n",
       "      <td>2006</td>\n",
       "      <td>10</td>\n",
       "      <td>31</td>\n",
       "      <td>17</td>\n",
       "      <td>1.0</td>\n",
       "      <td>1010.6</td>\n",
       "      <td>1011.0</td>\n",
       "      <td>1010.5</td>\n",
       "      <td>2733.717</td>\n",
       "      <td>26.0</td>\n",
       "      <td>...</td>\n",
       "      <td>22.3</td>\n",
       "      <td>26.0</td>\n",
       "      <td>20.3</td>\n",
       "      <td>71</td>\n",
       "      <td>74</td>\n",
       "      <td>66</td>\n",
       "      <td>5.9</td>\n",
       "      <td>25</td>\n",
       "      <td>12.1</td>\n",
       "      <td>1</td>\n",
       "    </tr>\n",
       "    <tr>\n",
       "      <th>2</th>\n",
       "      <td>2006</td>\n",
       "      <td>10</td>\n",
       "      <td>31</td>\n",
       "      <td>18</td>\n",
       "      <td>0.0</td>\n",
       "      <td>1010.3</td>\n",
       "      <td>1010.6</td>\n",
       "      <td>1010.2</td>\n",
       "      <td>1771.085</td>\n",
       "      <td>26.3</td>\n",
       "      <td>...</td>\n",
       "      <td>22.3</td>\n",
       "      <td>25.3</td>\n",
       "      <td>20.6</td>\n",
       "      <td>79</td>\n",
       "      <td>81</td>\n",
       "      <td>71</td>\n",
       "      <td>4.6</td>\n",
       "      <td>37</td>\n",
       "      <td>12.1</td>\n",
       "      <td>0</td>\n",
       "    </tr>\n",
       "    <tr>\n",
       "      <th>3</th>\n",
       "      <td>2006</td>\n",
       "      <td>10</td>\n",
       "      <td>31</td>\n",
       "      <td>19</td>\n",
       "      <td>0.0</td>\n",
       "      <td>1009.8</td>\n",
       "      <td>1010.3</td>\n",
       "      <td>1009.7</td>\n",
       "      <td>1619.683</td>\n",
       "      <td>26.0</td>\n",
       "      <td>...</td>\n",
       "      <td>22.2</td>\n",
       "      <td>26.0</td>\n",
       "      <td>21.3</td>\n",
       "      <td>77</td>\n",
       "      <td>79</td>\n",
       "      <td>73</td>\n",
       "      <td>5.6</td>\n",
       "      <td>28</td>\n",
       "      <td>11.5</td>\n",
       "      <td>0</td>\n",
       "    </tr>\n",
       "    <tr>\n",
       "      <th>4</th>\n",
       "      <td>2006</td>\n",
       "      <td>10</td>\n",
       "      <td>31</td>\n",
       "      <td>20</td>\n",
       "      <td>0.0</td>\n",
       "      <td>1010.3</td>\n",
       "      <td>1010.4</td>\n",
       "      <td>1009.7</td>\n",
       "      <td>496.554</td>\n",
       "      <td>25.2</td>\n",
       "      <td>...</td>\n",
       "      <td>22.0</td>\n",
       "      <td>25.2</td>\n",
       "      <td>21.5</td>\n",
       "      <td>82</td>\n",
       "      <td>82</td>\n",
       "      <td>76</td>\n",
       "      <td>4.5</td>\n",
       "      <td>14</td>\n",
       "      <td>10.9</td>\n",
       "      <td>0</td>\n",
       "    </tr>\n",
       "  </tbody>\n",
       "</table>\n",
       "<p>5 rows × 22 columns</p>\n",
       "</div>"
      ],
      "text/plain": [
       "     yr  mo  da  hr  prcp     stp    smax    smin      gbrd  temp  ...   dmax  \\\n",
       "0  2006  10  31  16   0.0  1010.9  1011.8  1010.9  2477.841  27.4  ...   22.5   \n",
       "1  2006  10  31  17   1.0  1010.6  1011.0  1010.5  2733.717  26.0  ...   22.3   \n",
       "2  2006  10  31  18   0.0  1010.3  1010.6  1010.2  1771.085  26.3  ...   22.3   \n",
       "3  2006  10  31  19   0.0  1009.8  1010.3  1009.7  1619.683  26.0  ...   22.2   \n",
       "4  2006  10  31  20   0.0  1010.3  1010.4  1009.7   496.554  25.2  ...   22.0   \n",
       "\n",
       "   tmin  dmin  hmdy  hmax  hmin  wdsp  wdct  gust  rain  \n",
       "0  26.2  21.2    72    76    71   4.3    28  10.3     0  \n",
       "1  26.0  20.3    71    74    66   5.9    25  12.1     1  \n",
       "2  25.3  20.6    79    81    71   4.6    37  12.1     0  \n",
       "3  26.0  21.3    77    79    73   5.6    28  11.5     0  \n",
       "4  25.2  21.5    82    82    76   4.5    14  10.9     0  \n",
       "\n",
       "[5 rows x 22 columns]"
      ]
     },
     "execution_count": 23,
     "metadata": {},
     "output_type": "execute_result"
    }
   ],
   "source": [
    "dfv.drop(['wsid', 'wsnm', 'elvt', 'lat', 'lon', 'inme', 'city', 'prov', 'date', 'mdct'], axis=1, inplace=True)\n",
    "dfv = dfv.reset_index(drop=True)\n",
    "dfv.head()"
   ]
  },
  {
   "cell_type": "markdown",
   "metadata": {},
   "source": [
    "For binary classification task, we added a binary variable 'rain' to represent whether the hour observed precipitation. We had though of grouping the record according to hour and take the mean of each variable, but it turned out no need to group because there are only hourly records. We dropped 'elvt', it's the same for all records."
   ]
  },
  {
   "cell_type": "code",
   "execution_count": 24,
   "metadata": {},
   "outputs": [
    {
     "data": {
      "text/html": [
       "<div>\n",
       "<style scoped>\n",
       "    .dataframe tbody tr th:only-of-type {\n",
       "        vertical-align: middle;\n",
       "    }\n",
       "\n",
       "    .dataframe tbody tr th {\n",
       "        vertical-align: top;\n",
       "    }\n",
       "\n",
       "    .dataframe thead th {\n",
       "        text-align: right;\n",
       "    }\n",
       "</style>\n",
       "<table border=\"1\" class=\"dataframe\">\n",
       "  <thead>\n",
       "    <tr style=\"text-align: right;\">\n",
       "      <th></th>\n",
       "      <th>yr</th>\n",
       "      <th>mo</th>\n",
       "      <th>da</th>\n",
       "      <th>hr</th>\n",
       "      <th>prcp</th>\n",
       "      <th>stp</th>\n",
       "      <th>smax</th>\n",
       "      <th>smin</th>\n",
       "      <th>gbrd</th>\n",
       "      <th>temp</th>\n",
       "      <th>...</th>\n",
       "      <th>dmax</th>\n",
       "      <th>tmin</th>\n",
       "      <th>dmin</th>\n",
       "      <th>hmdy</th>\n",
       "      <th>hmax</th>\n",
       "      <th>hmin</th>\n",
       "      <th>wdsp</th>\n",
       "      <th>wdct</th>\n",
       "      <th>gust</th>\n",
       "      <th>rain</th>\n",
       "    </tr>\n",
       "  </thead>\n",
       "  <tbody>\n",
       "    <tr>\n",
       "      <th>0</th>\n",
       "      <td>NaN</td>\n",
       "      <td>NaN</td>\n",
       "      <td>NaN</td>\n",
       "      <td>NaN</td>\n",
       "      <td>NaN</td>\n",
       "      <td>NaN</td>\n",
       "      <td>NaN</td>\n",
       "      <td>NaN</td>\n",
       "      <td>NaN</td>\n",
       "      <td>NaN</td>\n",
       "      <td>...</td>\n",
       "      <td>NaN</td>\n",
       "      <td>NaN</td>\n",
       "      <td>NaN</td>\n",
       "      <td>NaN</td>\n",
       "      <td>NaN</td>\n",
       "      <td>NaN</td>\n",
       "      <td>NaN</td>\n",
       "      <td>NaN</td>\n",
       "      <td>NaN</td>\n",
       "      <td>NaN</td>\n",
       "    </tr>\n",
       "    <tr>\n",
       "      <th>1</th>\n",
       "      <td>2006.0</td>\n",
       "      <td>10.0</td>\n",
       "      <td>31.0</td>\n",
       "      <td>16.0</td>\n",
       "      <td>0.0</td>\n",
       "      <td>1010.9</td>\n",
       "      <td>1011.8</td>\n",
       "      <td>1010.9</td>\n",
       "      <td>2477.841</td>\n",
       "      <td>27.4</td>\n",
       "      <td>...</td>\n",
       "      <td>22.5</td>\n",
       "      <td>26.2</td>\n",
       "      <td>21.2</td>\n",
       "      <td>72.0</td>\n",
       "      <td>76.0</td>\n",
       "      <td>71.0</td>\n",
       "      <td>4.3</td>\n",
       "      <td>28.0</td>\n",
       "      <td>10.3</td>\n",
       "      <td>0.0</td>\n",
       "    </tr>\n",
       "    <tr>\n",
       "      <th>2</th>\n",
       "      <td>2006.0</td>\n",
       "      <td>10.0</td>\n",
       "      <td>31.0</td>\n",
       "      <td>17.0</td>\n",
       "      <td>1.0</td>\n",
       "      <td>1010.6</td>\n",
       "      <td>1011.0</td>\n",
       "      <td>1010.5</td>\n",
       "      <td>2733.717</td>\n",
       "      <td>26.0</td>\n",
       "      <td>...</td>\n",
       "      <td>22.3</td>\n",
       "      <td>26.0</td>\n",
       "      <td>20.3</td>\n",
       "      <td>71.0</td>\n",
       "      <td>74.0</td>\n",
       "      <td>66.0</td>\n",
       "      <td>5.9</td>\n",
       "      <td>25.0</td>\n",
       "      <td>12.1</td>\n",
       "      <td>1.0</td>\n",
       "    </tr>\n",
       "    <tr>\n",
       "      <th>3</th>\n",
       "      <td>2006.0</td>\n",
       "      <td>10.0</td>\n",
       "      <td>31.0</td>\n",
       "      <td>18.0</td>\n",
       "      <td>0.0</td>\n",
       "      <td>1010.3</td>\n",
       "      <td>1010.6</td>\n",
       "      <td>1010.2</td>\n",
       "      <td>1771.085</td>\n",
       "      <td>26.3</td>\n",
       "      <td>...</td>\n",
       "      <td>22.3</td>\n",
       "      <td>25.3</td>\n",
       "      <td>20.6</td>\n",
       "      <td>79.0</td>\n",
       "      <td>81.0</td>\n",
       "      <td>71.0</td>\n",
       "      <td>4.6</td>\n",
       "      <td>37.0</td>\n",
       "      <td>12.1</td>\n",
       "      <td>0.0</td>\n",
       "    </tr>\n",
       "    <tr>\n",
       "      <th>4</th>\n",
       "      <td>2006.0</td>\n",
       "      <td>10.0</td>\n",
       "      <td>31.0</td>\n",
       "      <td>19.0</td>\n",
       "      <td>0.0</td>\n",
       "      <td>1009.8</td>\n",
       "      <td>1010.3</td>\n",
       "      <td>1009.7</td>\n",
       "      <td>1619.683</td>\n",
       "      <td>26.0</td>\n",
       "      <td>...</td>\n",
       "      <td>22.2</td>\n",
       "      <td>26.0</td>\n",
       "      <td>21.3</td>\n",
       "      <td>77.0</td>\n",
       "      <td>79.0</td>\n",
       "      <td>73.0</td>\n",
       "      <td>5.6</td>\n",
       "      <td>28.0</td>\n",
       "      <td>11.5</td>\n",
       "      <td>0.0</td>\n",
       "    </tr>\n",
       "  </tbody>\n",
       "</table>\n",
       "<p>5 rows × 22 columns</p>\n",
       "</div>"
      ],
      "text/plain": [
       "       yr    mo    da    hr  prcp     stp    smax    smin      gbrd  temp  \\\n",
       "0     NaN   NaN   NaN   NaN   NaN     NaN     NaN     NaN       NaN   NaN   \n",
       "1  2006.0  10.0  31.0  16.0   0.0  1010.9  1011.8  1010.9  2477.841  27.4   \n",
       "2  2006.0  10.0  31.0  17.0   1.0  1010.6  1011.0  1010.5  2733.717  26.0   \n",
       "3  2006.0  10.0  31.0  18.0   0.0  1010.3  1010.6  1010.2  1771.085  26.3   \n",
       "4  2006.0  10.0  31.0  19.0   0.0  1009.8  1010.3  1009.7  1619.683  26.0   \n",
       "\n",
       "   ...   dmax  tmin  dmin  hmdy  hmax  hmin  wdsp  wdct  gust  rain  \n",
       "0  ...    NaN   NaN   NaN   NaN   NaN   NaN   NaN   NaN   NaN   NaN  \n",
       "1  ...   22.5  26.2  21.2  72.0  76.0  71.0   4.3  28.0  10.3   0.0  \n",
       "2  ...   22.3  26.0  20.3  71.0  74.0  66.0   5.9  25.0  12.1   1.0  \n",
       "3  ...   22.3  25.3  20.6  79.0  81.0  71.0   4.6  37.0  12.1   0.0  \n",
       "4  ...   22.2  26.0  21.3  77.0  79.0  73.0   5.6  28.0  11.5   0.0  \n",
       "\n",
       "[5 rows x 22 columns]"
      ]
     },
     "execution_count": 24,
     "metadata": {},
     "output_type": "execute_result"
    }
   ],
   "source": [
    "tmp1 = dfv.shift(periods=1)\n",
    "tmp1.head()"
   ]
  },
  {
   "cell_type": "code",
   "execution_count": 25,
   "metadata": {
    "scrolled": true
   },
   "outputs": [
    {
     "data": {
      "text/plain": [
       "Index(['yr', 'mo', 'da', 'hr', 'prcp', 'stp', 'smax', 'smin', 'gbrd', 'temp',\n",
       "       'dewp', 'tmax', 'dmax', 'tmin', 'dmin', 'hmdy', 'hmax', 'hmin', 'wdsp',\n",
       "       'wdct', 'gust', 'rain', 'yr', 'mo', 'da', 'hr', 'prcp', 'stp', 'smax',\n",
       "       'smin', 'gbrd', 'temp', 'dewp', 'tmax', 'dmax', 'tmin', 'dmin', 'hmdy',\n",
       "       'hmax', 'hmin', 'wdsp', 'wdct', 'gust', 'rain'],\n",
       "      dtype='object')"
      ]
     },
     "execution_count": 25,
     "metadata": {},
     "output_type": "execute_result"
    }
   ],
   "source": [
    "tmp = pd.concat([dfv, tmp1], axis=1)\n",
    "tmp.columns"
   ]
  },
  {
   "cell_type": "code",
   "execution_count": 26,
   "metadata": {
    "scrolled": true
   },
   "outputs": [
    {
     "data": {
      "text/plain": [
       "(83486, 88)"
      ]
     },
     "execution_count": 26,
     "metadata": {},
     "output_type": "execute_result"
    }
   ],
   "source": [
    "tmp2 = dfv.shift(periods=2)\n",
    "tmp3 = dfv.shift(periods=3)\n",
    "tmp = pd.concat([tmp, tmp2, tmp3], axis=1)\n",
    "tmp.shape"
   ]
  },
  {
   "cell_type": "code",
   "execution_count": 27,
   "metadata": {},
   "outputs": [],
   "source": [
    "tmp.columns = ['yr', 'mo', 'da', 'hr', 'prcp', 'stp', 'smax', 'smin', 'gbrd', 'temp',\n",
    "       'dewp', 'tmax', 'dmax', 'tmin', 'dmin', 'hmdy', 'hmax', 'hmin', 'wdsp',\n",
    "       'wdct', 'gust', 'rain', \n",
    "               'yr1', 'mo1', 'da1', 'hr1', 'prcp1', 'stp1', 'smax1',\n",
    "       'smin1', 'gbrd1', 'temp1', 'dewp1', 'tmax1', 'dmax1', 'tmin1', 'dmin1', 'hmdy1',\n",
    "       'hmax1', 'hmin1', 'wdsp1', 'wdct1', 'gust1', 'rain1', \n",
    "              'yr2', 'mo2', 'da2', 'hr2', 'prcp2', 'stp2', 'smax2', 'smin2', 'gbrd2', 'temp2',\n",
    "       'dewp2', 'tmax2', 'dmax2', 'tmin2', 'dmin2', 'hmdy2', 'hmax2', 'hmin2', 'wdsp2',\n",
    "       'wdct2', 'gust2', 'rain2', \n",
    "               'yr3', 'mo3', 'da3', 'hr3', 'prcp3', 'stp3', 'smax3',\n",
    "       'smin3', 'gbrd3', 'temp3', 'dewp3', 'tmax3', 'dmax3', 'tmin3', 'dmin3', 'hmdy3',\n",
    "       'hmax3', 'hmin3', 'wdsp3', 'wdct3', 'gust3', 'rain3']"
   ]
  },
  {
   "cell_type": "code",
   "execution_count": 28,
   "metadata": {
    "scrolled": true
   },
   "outputs": [],
   "source": [
    "tmp.fillna(method='bfill', inplace=True)\n",
    "tmp.hr1 = tmp.hr1.astype(int)\n",
    "tmp.hr2 = tmp.hr2.astype(int)\n",
    "tmp.da1 = tmp.da1.astype(int)\n",
    "tmp.da2 = tmp.da2.astype(int)\n",
    "tmp.mo1 = tmp.mo1.astype(int)\n",
    "tmp.mo2 = tmp.mo2.astype(int)\n",
    "tmp.yr1 = tmp.yr1.astype(int)\n",
    "tmp.yr2 = tmp.yr2.astype(int)"
   ]
  },
  {
   "cell_type": "markdown",
   "metadata": {},
   "source": [
    "By shifting the whole dataset 3 times and concatenating to the original dataframe, we formed records that contains all the information for the last 3 hours. We further deleted the 'instant' variables. But there might be some gaps due to list-wise removal, meaning the concatenated records do not necessarily represent the last \"3\" hours, but last 4, 5 hours or even more. We need to further observe these records."
   ]
  },
  {
   "cell_type": "code",
   "execution_count": 29,
   "metadata": {
    "scrolled": true
   },
   "outputs": [
    {
     "name": "stdout",
     "output_type": "stream",
     "text": [
      "2443 4794\n"
     ]
    }
   ],
   "source": [
    "# time_gap = tmp.loc[(tmp.hr != (tmp.hr1+1)%24) | (tmp.hr != (tmp.hr2+2)%24) |\n",
    "#         (tmp.da != tmp.da1) | (tmp.da != tmp.da2) |\n",
    "#         (tmp.mo != tmp.mo1) | (tmp.mo != tmp.mo2) |\n",
    "#         (tmp.yr != tmp.yr1) | (tmp.yr != tmp.yr2)].index\n",
    "time_gap1 = tmp.loc[(tmp.hr != (tmp.hr1+1)%24)].index\n",
    "time_gap2 = tmp.loc[(tmp.hr != (tmp.hr2+2)%24)].index\n",
    "print(len(time_gap1), len(time_gap2))\n",
    "# there're (possibly) 7000+ that last 3 hrs data not totally available"
   ]
  },
  {
   "cell_type": "code",
   "execution_count": 30,
   "metadata": {
    "scrolled": true
   },
   "outputs": [
    {
     "data": {
      "text/html": [
       "<div>\n",
       "<style scoped>\n",
       "    .dataframe tbody tr th:only-of-type {\n",
       "        vertical-align: middle;\n",
       "    }\n",
       "\n",
       "    .dataframe tbody tr th {\n",
       "        vertical-align: top;\n",
       "    }\n",
       "\n",
       "    .dataframe thead th {\n",
       "        text-align: right;\n",
       "    }\n",
       "</style>\n",
       "<table border=\"1\" class=\"dataframe\">\n",
       "  <thead>\n",
       "    <tr style=\"text-align: right;\">\n",
       "      <th></th>\n",
       "      <th>hr</th>\n",
       "      <th>hr1</th>\n",
       "      <th>hr2</th>\n",
       "      <th>diff_hr1</th>\n",
       "      <th>diff_hr2</th>\n",
       "    </tr>\n",
       "  </thead>\n",
       "  <tbody>\n",
       "    <tr>\n",
       "      <th>0</th>\n",
       "      <td>16</td>\n",
       "      <td>16</td>\n",
       "      <td>16</td>\n",
       "      <td>0</td>\n",
       "      <td>0</td>\n",
       "    </tr>\n",
       "    <tr>\n",
       "      <th>5</th>\n",
       "      <td>22</td>\n",
       "      <td>20</td>\n",
       "      <td>19</td>\n",
       "      <td>2</td>\n",
       "      <td>3</td>\n",
       "    </tr>\n",
       "    <tr>\n",
       "      <th>27</th>\n",
       "      <td>21</td>\n",
       "      <td>19</td>\n",
       "      <td>18</td>\n",
       "      <td>2</td>\n",
       "      <td>3</td>\n",
       "    </tr>\n",
       "    <tr>\n",
       "      <th>35</th>\n",
       "      <td>6</td>\n",
       "      <td>4</td>\n",
       "      <td>3</td>\n",
       "      <td>2</td>\n",
       "      <td>3</td>\n",
       "    </tr>\n",
       "    <tr>\n",
       "      <th>47</th>\n",
       "      <td>19</td>\n",
       "      <td>17</td>\n",
       "      <td>16</td>\n",
       "      <td>2</td>\n",
       "      <td>3</td>\n",
       "    </tr>\n",
       "    <tr>\n",
       "      <th>58</th>\n",
       "      <td>7</td>\n",
       "      <td>5</td>\n",
       "      <td>4</td>\n",
       "      <td>2</td>\n",
       "      <td>3</td>\n",
       "    </tr>\n",
       "    <tr>\n",
       "      <th>99</th>\n",
       "      <td>1</td>\n",
       "      <td>23</td>\n",
       "      <td>22</td>\n",
       "      <td>2</td>\n",
       "      <td>3</td>\n",
       "    </tr>\n",
       "    <tr>\n",
       "      <th>102</th>\n",
       "      <td>5</td>\n",
       "      <td>3</td>\n",
       "      <td>2</td>\n",
       "      <td>2</td>\n",
       "      <td>3</td>\n",
       "    </tr>\n",
       "    <tr>\n",
       "      <th>110</th>\n",
       "      <td>14</td>\n",
       "      <td>12</td>\n",
       "      <td>11</td>\n",
       "      <td>2</td>\n",
       "      <td>3</td>\n",
       "    </tr>\n",
       "    <tr>\n",
       "      <th>180</th>\n",
       "      <td>13</td>\n",
       "      <td>11</td>\n",
       "      <td>10</td>\n",
       "      <td>2</td>\n",
       "      <td>3</td>\n",
       "    </tr>\n",
       "    <tr>\n",
       "      <th>199</th>\n",
       "      <td>9</td>\n",
       "      <td>7</td>\n",
       "      <td>6</td>\n",
       "      <td>2</td>\n",
       "      <td>3</td>\n",
       "    </tr>\n",
       "    <tr>\n",
       "      <th>212</th>\n",
       "      <td>23</td>\n",
       "      <td>21</td>\n",
       "      <td>20</td>\n",
       "      <td>2</td>\n",
       "      <td>3</td>\n",
       "    </tr>\n",
       "    <tr>\n",
       "      <th>220</th>\n",
       "      <td>8</td>\n",
       "      <td>6</td>\n",
       "      <td>5</td>\n",
       "      <td>2</td>\n",
       "      <td>3</td>\n",
       "    </tr>\n",
       "    <tr>\n",
       "      <th>257</th>\n",
       "      <td>23</td>\n",
       "      <td>20</td>\n",
       "      <td>19</td>\n",
       "      <td>3</td>\n",
       "      <td>4</td>\n",
       "    </tr>\n",
       "    <tr>\n",
       "      <th>282</th>\n",
       "      <td>1</td>\n",
       "      <td>23</td>\n",
       "      <td>22</td>\n",
       "      <td>2</td>\n",
       "      <td>3</td>\n",
       "    </tr>\n",
       "    <tr>\n",
       "      <th>283</th>\n",
       "      <td>3</td>\n",
       "      <td>1</td>\n",
       "      <td>23</td>\n",
       "      <td>2</td>\n",
       "      <td>4</td>\n",
       "    </tr>\n",
       "    <tr>\n",
       "      <th>349</th>\n",
       "      <td>22</td>\n",
       "      <td>20</td>\n",
       "      <td>19</td>\n",
       "      <td>2</td>\n",
       "      <td>3</td>\n",
       "    </tr>\n",
       "    <tr>\n",
       "      <th>385</th>\n",
       "      <td>11</td>\n",
       "      <td>9</td>\n",
       "      <td>8</td>\n",
       "      <td>2</td>\n",
       "      <td>3</td>\n",
       "    </tr>\n",
       "    <tr>\n",
       "      <th>397</th>\n",
       "      <td>0</td>\n",
       "      <td>22</td>\n",
       "      <td>21</td>\n",
       "      <td>2</td>\n",
       "      <td>3</td>\n",
       "    </tr>\n",
       "    <tr>\n",
       "      <th>449</th>\n",
       "      <td>5</td>\n",
       "      <td>3</td>\n",
       "      <td>2</td>\n",
       "      <td>2</td>\n",
       "      <td>3</td>\n",
       "    </tr>\n",
       "    <tr>\n",
       "      <th>456</th>\n",
       "      <td>13</td>\n",
       "      <td>11</td>\n",
       "      <td>10</td>\n",
       "      <td>2</td>\n",
       "      <td>3</td>\n",
       "    </tr>\n",
       "    <tr>\n",
       "      <th>459</th>\n",
       "      <td>17</td>\n",
       "      <td>15</td>\n",
       "      <td>14</td>\n",
       "      <td>2</td>\n",
       "      <td>3</td>\n",
       "    </tr>\n",
       "    <tr>\n",
       "      <th>476</th>\n",
       "      <td>11</td>\n",
       "      <td>9</td>\n",
       "      <td>8</td>\n",
       "      <td>2</td>\n",
       "      <td>3</td>\n",
       "    </tr>\n",
       "    <tr>\n",
       "      <th>512</th>\n",
       "      <td>0</td>\n",
       "      <td>22</td>\n",
       "      <td>21</td>\n",
       "      <td>2</td>\n",
       "      <td>3</td>\n",
       "    </tr>\n",
       "    <tr>\n",
       "      <th>548</th>\n",
       "      <td>13</td>\n",
       "      <td>11</td>\n",
       "      <td>10</td>\n",
       "      <td>2</td>\n",
       "      <td>3</td>\n",
       "    </tr>\n",
       "    <tr>\n",
       "      <th>558</th>\n",
       "      <td>0</td>\n",
       "      <td>22</td>\n",
       "      <td>21</td>\n",
       "      <td>2</td>\n",
       "      <td>3</td>\n",
       "    </tr>\n",
       "    <tr>\n",
       "      <th>566</th>\n",
       "      <td>9</td>\n",
       "      <td>7</td>\n",
       "      <td>6</td>\n",
       "      <td>2</td>\n",
       "      <td>3</td>\n",
       "    </tr>\n",
       "    <tr>\n",
       "      <th>621</th>\n",
       "      <td>17</td>\n",
       "      <td>15</td>\n",
       "      <td>14</td>\n",
       "      <td>2</td>\n",
       "      <td>3</td>\n",
       "    </tr>\n",
       "    <tr>\n",
       "      <th>653</th>\n",
       "      <td>2</td>\n",
       "      <td>0</td>\n",
       "      <td>23</td>\n",
       "      <td>2</td>\n",
       "      <td>3</td>\n",
       "    </tr>\n",
       "    <tr>\n",
       "      <th>691</th>\n",
       "      <td>17</td>\n",
       "      <td>15</td>\n",
       "      <td>14</td>\n",
       "      <td>2</td>\n",
       "      <td>3</td>\n",
       "    </tr>\n",
       "    <tr>\n",
       "      <th>...</th>\n",
       "      <td>...</td>\n",
       "      <td>...</td>\n",
       "      <td>...</td>\n",
       "      <td>...</td>\n",
       "      <td>...</td>\n",
       "    </tr>\n",
       "    <tr>\n",
       "      <th>82208</th>\n",
       "      <td>11</td>\n",
       "      <td>9</td>\n",
       "      <td>8</td>\n",
       "      <td>2</td>\n",
       "      <td>3</td>\n",
       "    </tr>\n",
       "    <tr>\n",
       "      <th>82215</th>\n",
       "      <td>19</td>\n",
       "      <td>17</td>\n",
       "      <td>16</td>\n",
       "      <td>2</td>\n",
       "      <td>3</td>\n",
       "    </tr>\n",
       "    <tr>\n",
       "      <th>82349</th>\n",
       "      <td>10</td>\n",
       "      <td>8</td>\n",
       "      <td>7</td>\n",
       "      <td>2</td>\n",
       "      <td>3</td>\n",
       "    </tr>\n",
       "    <tr>\n",
       "      <th>82378</th>\n",
       "      <td>16</td>\n",
       "      <td>14</td>\n",
       "      <td>13</td>\n",
       "      <td>2</td>\n",
       "      <td>3</td>\n",
       "    </tr>\n",
       "    <tr>\n",
       "      <th>82421</th>\n",
       "      <td>12</td>\n",
       "      <td>10</td>\n",
       "      <td>9</td>\n",
       "      <td>2</td>\n",
       "      <td>3</td>\n",
       "    </tr>\n",
       "    <tr>\n",
       "      <th>82502</th>\n",
       "      <td>22</td>\n",
       "      <td>20</td>\n",
       "      <td>19</td>\n",
       "      <td>2</td>\n",
       "      <td>3</td>\n",
       "    </tr>\n",
       "    <tr>\n",
       "      <th>82540</th>\n",
       "      <td>13</td>\n",
       "      <td>11</td>\n",
       "      <td>10</td>\n",
       "      <td>2</td>\n",
       "      <td>3</td>\n",
       "    </tr>\n",
       "    <tr>\n",
       "      <th>82561</th>\n",
       "      <td>11</td>\n",
       "      <td>9</td>\n",
       "      <td>8</td>\n",
       "      <td>2</td>\n",
       "      <td>3</td>\n",
       "    </tr>\n",
       "    <tr>\n",
       "      <th>82577</th>\n",
       "      <td>4</td>\n",
       "      <td>2</td>\n",
       "      <td>1</td>\n",
       "      <td>2</td>\n",
       "      <td>3</td>\n",
       "    </tr>\n",
       "    <tr>\n",
       "      <th>82639</th>\n",
       "      <td>19</td>\n",
       "      <td>17</td>\n",
       "      <td>16</td>\n",
       "      <td>2</td>\n",
       "      <td>3</td>\n",
       "    </tr>\n",
       "    <tr>\n",
       "      <th>82708</th>\n",
       "      <td>17</td>\n",
       "      <td>15</td>\n",
       "      <td>14</td>\n",
       "      <td>2</td>\n",
       "      <td>3</td>\n",
       "    </tr>\n",
       "    <tr>\n",
       "      <th>82740</th>\n",
       "      <td>2</td>\n",
       "      <td>0</td>\n",
       "      <td>23</td>\n",
       "      <td>2</td>\n",
       "      <td>3</td>\n",
       "    </tr>\n",
       "    <tr>\n",
       "      <th>82762</th>\n",
       "      <td>1</td>\n",
       "      <td>23</td>\n",
       "      <td>22</td>\n",
       "      <td>2</td>\n",
       "      <td>3</td>\n",
       "    </tr>\n",
       "    <tr>\n",
       "      <th>82764</th>\n",
       "      <td>4</td>\n",
       "      <td>2</td>\n",
       "      <td>1</td>\n",
       "      <td>2</td>\n",
       "      <td>3</td>\n",
       "    </tr>\n",
       "    <tr>\n",
       "      <th>82804</th>\n",
       "      <td>21</td>\n",
       "      <td>19</td>\n",
       "      <td>18</td>\n",
       "      <td>2</td>\n",
       "      <td>3</td>\n",
       "    </tr>\n",
       "    <tr>\n",
       "      <th>82826</th>\n",
       "      <td>20</td>\n",
       "      <td>18</td>\n",
       "      <td>17</td>\n",
       "      <td>2</td>\n",
       "      <td>3</td>\n",
       "    </tr>\n",
       "    <tr>\n",
       "      <th>82892</th>\n",
       "      <td>15</td>\n",
       "      <td>13</td>\n",
       "      <td>12</td>\n",
       "      <td>2</td>\n",
       "      <td>3</td>\n",
       "    </tr>\n",
       "    <tr>\n",
       "      <th>82910</th>\n",
       "      <td>10</td>\n",
       "      <td>8</td>\n",
       "      <td>7</td>\n",
       "      <td>2</td>\n",
       "      <td>3</td>\n",
       "    </tr>\n",
       "    <tr>\n",
       "      <th>82974</th>\n",
       "      <td>3</td>\n",
       "      <td>1</td>\n",
       "      <td>0</td>\n",
       "      <td>2</td>\n",
       "      <td>3</td>\n",
       "    </tr>\n",
       "    <tr>\n",
       "      <th>83060</th>\n",
       "      <td>18</td>\n",
       "      <td>16</td>\n",
       "      <td>15</td>\n",
       "      <td>2</td>\n",
       "      <td>3</td>\n",
       "    </tr>\n",
       "    <tr>\n",
       "      <th>83100</th>\n",
       "      <td>12</td>\n",
       "      <td>9</td>\n",
       "      <td>8</td>\n",
       "      <td>3</td>\n",
       "      <td>4</td>\n",
       "    </tr>\n",
       "    <tr>\n",
       "      <th>83129</th>\n",
       "      <td>18</td>\n",
       "      <td>16</td>\n",
       "      <td>15</td>\n",
       "      <td>2</td>\n",
       "      <td>3</td>\n",
       "    </tr>\n",
       "    <tr>\n",
       "      <th>83146</th>\n",
       "      <td>12</td>\n",
       "      <td>10</td>\n",
       "      <td>9</td>\n",
       "      <td>2</td>\n",
       "      <td>3</td>\n",
       "    </tr>\n",
       "    <tr>\n",
       "      <th>83185</th>\n",
       "      <td>4</td>\n",
       "      <td>2</td>\n",
       "      <td>1</td>\n",
       "      <td>2</td>\n",
       "      <td>3</td>\n",
       "    </tr>\n",
       "    <tr>\n",
       "      <th>83224</th>\n",
       "      <td>20</td>\n",
       "      <td>18</td>\n",
       "      <td>17</td>\n",
       "      <td>2</td>\n",
       "      <td>3</td>\n",
       "    </tr>\n",
       "    <tr>\n",
       "      <th>83340</th>\n",
       "      <td>17</td>\n",
       "      <td>15</td>\n",
       "      <td>14</td>\n",
       "      <td>2</td>\n",
       "      <td>3</td>\n",
       "    </tr>\n",
       "    <tr>\n",
       "      <th>83357</th>\n",
       "      <td>11</td>\n",
       "      <td>9</td>\n",
       "      <td>8</td>\n",
       "      <td>2</td>\n",
       "      <td>3</td>\n",
       "    </tr>\n",
       "    <tr>\n",
       "      <th>83432</th>\n",
       "      <td>15</td>\n",
       "      <td>13</td>\n",
       "      <td>12</td>\n",
       "      <td>2</td>\n",
       "      <td>3</td>\n",
       "    </tr>\n",
       "    <tr>\n",
       "      <th>83474</th>\n",
       "      <td>11</td>\n",
       "      <td>8</td>\n",
       "      <td>7</td>\n",
       "      <td>3</td>\n",
       "      <td>4</td>\n",
       "    </tr>\n",
       "    <tr>\n",
       "      <th>83477</th>\n",
       "      <td>15</td>\n",
       "      <td>13</td>\n",
       "      <td>12</td>\n",
       "      <td>2</td>\n",
       "      <td>3</td>\n",
       "    </tr>\n",
       "  </tbody>\n",
       "</table>\n",
       "<p>2443 rows × 5 columns</p>\n",
       "</div>"
      ],
      "text/plain": [
       "       hr  hr1  hr2  diff_hr1  diff_hr2\n",
       "0      16   16   16         0         0\n",
       "5      22   20   19         2         3\n",
       "27     21   19   18         2         3\n",
       "35      6    4    3         2         3\n",
       "47     19   17   16         2         3\n",
       "58      7    5    4         2         3\n",
       "99      1   23   22         2         3\n",
       "102     5    3    2         2         3\n",
       "110    14   12   11         2         3\n",
       "180    13   11   10         2         3\n",
       "199     9    7    6         2         3\n",
       "212    23   21   20         2         3\n",
       "220     8    6    5         2         3\n",
       "257    23   20   19         3         4\n",
       "282     1   23   22         2         3\n",
       "283     3    1   23         2         4\n",
       "349    22   20   19         2         3\n",
       "385    11    9    8         2         3\n",
       "397     0   22   21         2         3\n",
       "449     5    3    2         2         3\n",
       "456    13   11   10         2         3\n",
       "459    17   15   14         2         3\n",
       "476    11    9    8         2         3\n",
       "512     0   22   21         2         3\n",
       "548    13   11   10         2         3\n",
       "558     0   22   21         2         3\n",
       "566     9    7    6         2         3\n",
       "621    17   15   14         2         3\n",
       "653     2    0   23         2         3\n",
       "691    17   15   14         2         3\n",
       "...    ..  ...  ...       ...       ...\n",
       "82208  11    9    8         2         3\n",
       "82215  19   17   16         2         3\n",
       "82349  10    8    7         2         3\n",
       "82378  16   14   13         2         3\n",
       "82421  12   10    9         2         3\n",
       "82502  22   20   19         2         3\n",
       "82540  13   11   10         2         3\n",
       "82561  11    9    8         2         3\n",
       "82577   4    2    1         2         3\n",
       "82639  19   17   16         2         3\n",
       "82708  17   15   14         2         3\n",
       "82740   2    0   23         2         3\n",
       "82762   1   23   22         2         3\n",
       "82764   4    2    1         2         3\n",
       "82804  21   19   18         2         3\n",
       "82826  20   18   17         2         3\n",
       "82892  15   13   12         2         3\n",
       "82910  10    8    7         2         3\n",
       "82974   3    1    0         2         3\n",
       "83060  18   16   15         2         3\n",
       "83100  12    9    8         3         4\n",
       "83129  18   16   15         2         3\n",
       "83146  12   10    9         2         3\n",
       "83185   4    2    1         2         3\n",
       "83224  20   18   17         2         3\n",
       "83340  17   15   14         2         3\n",
       "83357  11    9    8         2         3\n",
       "83432  15   13   12         2         3\n",
       "83474  11    8    7         3         4\n",
       "83477  15   13   12         2         3\n",
       "\n",
       "[2443 rows x 5 columns]"
      ]
     },
     "execution_count": 30,
     "metadata": {},
     "output_type": "execute_result"
    }
   ],
   "source": [
    "# either strictly require last 3 hrs and fill wrong hour with all 0s\n",
    "# or keep the hr2/hr2 vars to let the model judge the discrepancy\n",
    "# i feel the easiest is the best (?)\n",
    "# but if hr1/hr2 are kept, to do it justice da/mo/yr should also be kept, but then it's too noisy\n",
    "# -> only keep hr1/hr2 (shouldave kept mdct...)\n",
    "tmp['diff_hr1'] = tmp.hr - tmp.hr1\n",
    "tmp['diff_hr2'] = tmp.hr - tmp.hr2\n",
    "tmp.loc[tmp.diff_hr1 < 0, 'diff_hr1'] = tmp.diff_hr1 + 24\n",
    "tmp.loc[tmp.diff_hr2 < 0, 'diff_hr2'] = tmp.diff_hr2 + 24\n",
    "tmp.loc[time_gap1, ['hr', 'hr1', 'hr2', 'diff_hr1', 'diff_hr2']]"
   ]
  },
  {
   "cell_type": "markdown",
   "metadata": {},
   "source": [
    "From here, there are 2 trategies we considered: either strictly require last 3 hrs and fill wrong hour with all 0s, or keep the hr2/hr2 vars to let the model judge the discrepancy. We chose the second way, because it provides more usefaul data to the model, and we can add variables to record the absolute difference/time interval between hours."
   ]
  },
  {
   "cell_type": "code",
   "execution_count": 31,
   "metadata": {},
   "outputs": [
    {
     "data": {
      "text/html": [
       "<div>\n",
       "<style scoped>\n",
       "    .dataframe tbody tr th:only-of-type {\n",
       "        vertical-align: middle;\n",
       "    }\n",
       "\n",
       "    .dataframe tbody tr th {\n",
       "        vertical-align: top;\n",
       "    }\n",
       "\n",
       "    .dataframe thead th {\n",
       "        text-align: right;\n",
       "    }\n",
       "</style>\n",
       "<table border=\"1\" class=\"dataframe\">\n",
       "  <thead>\n",
       "    <tr style=\"text-align: right;\">\n",
       "      <th></th>\n",
       "      <th>yr</th>\n",
       "      <th>mo</th>\n",
       "      <th>da</th>\n",
       "      <th>hr</th>\n",
       "      <th>prcp</th>\n",
       "      <th>stp</th>\n",
       "      <th>smax</th>\n",
       "      <th>smin</th>\n",
       "      <th>gbrd</th>\n",
       "      <th>temp</th>\n",
       "      <th>...</th>\n",
       "      <th>dmin3</th>\n",
       "      <th>hmdy3</th>\n",
       "      <th>hmax3</th>\n",
       "      <th>hmin3</th>\n",
       "      <th>wdsp3</th>\n",
       "      <th>wdct3</th>\n",
       "      <th>gust3</th>\n",
       "      <th>rain3</th>\n",
       "      <th>diff_hr1</th>\n",
       "      <th>diff_hr2</th>\n",
       "    </tr>\n",
       "  </thead>\n",
       "  <tbody>\n",
       "    <tr>\n",
       "      <th>0</th>\n",
       "      <td>2006</td>\n",
       "      <td>10</td>\n",
       "      <td>31</td>\n",
       "      <td>16</td>\n",
       "      <td>0.0</td>\n",
       "      <td>1010.9</td>\n",
       "      <td>1011.8</td>\n",
       "      <td>1010.9</td>\n",
       "      <td>2477.841</td>\n",
       "      <td>27.4</td>\n",
       "      <td>...</td>\n",
       "      <td>21.2</td>\n",
       "      <td>72.0</td>\n",
       "      <td>76.0</td>\n",
       "      <td>71.0</td>\n",
       "      <td>4.3</td>\n",
       "      <td>28.0</td>\n",
       "      <td>10.3</td>\n",
       "      <td>0.0</td>\n",
       "      <td>0</td>\n",
       "      <td>0</td>\n",
       "    </tr>\n",
       "    <tr>\n",
       "      <th>1</th>\n",
       "      <td>2006</td>\n",
       "      <td>10</td>\n",
       "      <td>31</td>\n",
       "      <td>17</td>\n",
       "      <td>1.0</td>\n",
       "      <td>1010.6</td>\n",
       "      <td>1011.0</td>\n",
       "      <td>1010.5</td>\n",
       "      <td>2733.717</td>\n",
       "      <td>26.0</td>\n",
       "      <td>...</td>\n",
       "      <td>21.2</td>\n",
       "      <td>72.0</td>\n",
       "      <td>76.0</td>\n",
       "      <td>71.0</td>\n",
       "      <td>4.3</td>\n",
       "      <td>28.0</td>\n",
       "      <td>10.3</td>\n",
       "      <td>0.0</td>\n",
       "      <td>1</td>\n",
       "      <td>1</td>\n",
       "    </tr>\n",
       "    <tr>\n",
       "      <th>2</th>\n",
       "      <td>2006</td>\n",
       "      <td>10</td>\n",
       "      <td>31</td>\n",
       "      <td>18</td>\n",
       "      <td>0.0</td>\n",
       "      <td>1010.3</td>\n",
       "      <td>1010.6</td>\n",
       "      <td>1010.2</td>\n",
       "      <td>1771.085</td>\n",
       "      <td>26.3</td>\n",
       "      <td>...</td>\n",
       "      <td>21.2</td>\n",
       "      <td>72.0</td>\n",
       "      <td>76.0</td>\n",
       "      <td>71.0</td>\n",
       "      <td>4.3</td>\n",
       "      <td>28.0</td>\n",
       "      <td>10.3</td>\n",
       "      <td>0.0</td>\n",
       "      <td>1</td>\n",
       "      <td>2</td>\n",
       "    </tr>\n",
       "    <tr>\n",
       "      <th>3</th>\n",
       "      <td>2006</td>\n",
       "      <td>10</td>\n",
       "      <td>31</td>\n",
       "      <td>19</td>\n",
       "      <td>0.0</td>\n",
       "      <td>1009.8</td>\n",
       "      <td>1010.3</td>\n",
       "      <td>1009.7</td>\n",
       "      <td>1619.683</td>\n",
       "      <td>26.0</td>\n",
       "      <td>...</td>\n",
       "      <td>21.2</td>\n",
       "      <td>72.0</td>\n",
       "      <td>76.0</td>\n",
       "      <td>71.0</td>\n",
       "      <td>4.3</td>\n",
       "      <td>28.0</td>\n",
       "      <td>10.3</td>\n",
       "      <td>0.0</td>\n",
       "      <td>1</td>\n",
       "      <td>2</td>\n",
       "    </tr>\n",
       "    <tr>\n",
       "      <th>4</th>\n",
       "      <td>2006</td>\n",
       "      <td>10</td>\n",
       "      <td>31</td>\n",
       "      <td>20</td>\n",
       "      <td>0.0</td>\n",
       "      <td>1010.3</td>\n",
       "      <td>1010.4</td>\n",
       "      <td>1009.7</td>\n",
       "      <td>496.554</td>\n",
       "      <td>25.2</td>\n",
       "      <td>...</td>\n",
       "      <td>20.3</td>\n",
       "      <td>71.0</td>\n",
       "      <td>74.0</td>\n",
       "      <td>66.0</td>\n",
       "      <td>5.9</td>\n",
       "      <td>25.0</td>\n",
       "      <td>12.1</td>\n",
       "      <td>1.0</td>\n",
       "      <td>1</td>\n",
       "      <td>2</td>\n",
       "    </tr>\n",
       "  </tbody>\n",
       "</table>\n",
       "<p>5 rows × 90 columns</p>\n",
       "</div>"
      ],
      "text/plain": [
       "     yr  mo  da  hr  prcp     stp    smax    smin      gbrd  temp    ...     \\\n",
       "0  2006  10  31  16   0.0  1010.9  1011.8  1010.9  2477.841  27.4    ...      \n",
       "1  2006  10  31  17   1.0  1010.6  1011.0  1010.5  2733.717  26.0    ...      \n",
       "2  2006  10  31  18   0.0  1010.3  1010.6  1010.2  1771.085  26.3    ...      \n",
       "3  2006  10  31  19   0.0  1009.8  1010.3  1009.7  1619.683  26.0    ...      \n",
       "4  2006  10  31  20   0.0  1010.3  1010.4  1009.7   496.554  25.2    ...      \n",
       "\n",
       "   dmin3  hmdy3  hmax3  hmin3  wdsp3  wdct3  gust3  rain3  diff_hr1  diff_hr2  \n",
       "0   21.2   72.0   76.0   71.0    4.3   28.0   10.3    0.0         0         0  \n",
       "1   21.2   72.0   76.0   71.0    4.3   28.0   10.3    0.0         1         1  \n",
       "2   21.2   72.0   76.0   71.0    4.3   28.0   10.3    0.0         1         2  \n",
       "3   21.2   72.0   76.0   71.0    4.3   28.0   10.3    0.0         1         2  \n",
       "4   20.3   71.0   74.0   66.0    5.9   25.0   12.1    1.0         1         2  \n",
       "\n",
       "[5 rows x 90 columns]"
      ]
     },
     "execution_count": 31,
     "metadata": {},
     "output_type": "execute_result"
    }
   ],
   "source": [
    "tmp.head()"
   ]
  },
  {
   "cell_type": "code",
   "execution_count": 32,
   "metadata": {},
   "outputs": [
    {
     "data": {
      "text/plain": [
       "(83486, 52)"
      ]
     },
     "execution_count": 32,
     "metadata": {},
     "output_type": "execute_result"
    }
   ],
   "source": [
    "tmp.drop(['yr1', 'mo1', 'da1', 'hr1', 'yr2', 'mo2', 'da2', 'hr2', 'yr3', 'mo3', 'da3', 'hr3',\n",
    "          'stp1', 'temp1', 'dewp1', 'hmdy1', 'stp2', 'temp2', 'dewp2', 'hmdy2', 'stp3', 'temp3', 'dewp3', 'hmdy3', \n",
    "          'prcp3', 'smax3', 'smin3', 'gbrd3', 'tmax3', 'dmax3', 'tmin3', 'dmin3', 'hmax3', 'hmin3', 'wdsp3', 'wdct3', 'gust3', 'rain3'], \n",
    "         axis=1, inplace=True)\n",
    "tmp.shape\n",
    "# drop last 4th hr; drop instant feature for last 3 hrs"
   ]
  },
  {
   "cell_type": "code",
   "execution_count": 33,
   "metadata": {},
   "outputs": [
    {
     "data": {
      "text/plain": [
       "0    76410\n",
       "1     7076\n",
       "Name: rain, dtype: int64"
      ]
     },
     "execution_count": 33,
     "metadata": {},
     "output_type": "execute_result"
    }
   ],
   "source": [
    "tmp.rain.value_counts()"
   ]
  },
  {
   "cell_type": "markdown",
   "metadata": {},
   "source": [
    "We probably will need to use SMOTE in prediction."
   ]
  },
  {
   "cell_type": "markdown",
   "metadata": {},
   "source": [
    "### Predictive modeling\n",
    "<a id='model'></a>"
   ]
  },
  {
   "cell_type": "code",
   "execution_count": 34,
   "metadata": {},
   "outputs": [],
   "source": [
    "from sklearn.linear_model import LogisticRegression, LinearRegression\n",
    "from sklearn.preprocessing import StandardScaler\n",
    "\n",
    "from sklearn.model_selection import train_test_split\n",
    "from sklearn.model_selection import cross_val_score\n",
    "from sklearn.model_selection import KFold\n",
    "\n",
    "from sklearn.metrics import classification_report\n",
    "from sklearn.metrics import accuracy_score\n",
    "from sklearn.metrics import roc_curve\n",
    "from sklearn.metrics import roc_auc_score\n",
    "from imblearn.over_sampling import SMOTE\n",
    "\n",
    "from sklearn.metrics import mean_squared_error, r2_score"
   ]
  },
  {
   "cell_type": "code",
   "execution_count": 35,
   "metadata": {},
   "outputs": [
    {
     "data": {
      "text/plain": [
       "Index(['yr', 'mo', 'da', 'hr', 'stp', 'smax', 'smin', 'gbrd', 'temp', 'dewp',\n",
       "       'tmax', 'dmax', 'tmin', 'dmin', 'hmdy', 'hmax', 'hmin', 'wdsp', 'wdct',\n",
       "       'gust', 'prcp1', 'smax1', 'smin1', 'gbrd1', 'tmax1', 'dmax1', 'tmin1',\n",
       "       'dmin1', 'hmax1', 'hmin1', 'wdsp1', 'wdct1', 'gust1', 'rain1', 'prcp2',\n",
       "       'smax2', 'smin2', 'gbrd2', 'tmax2', 'dmax2', 'tmin2', 'dmin2', 'hmax2',\n",
       "       'hmin2', 'wdsp2', 'wdct2', 'gust2', 'rain2', 'diff_hr1', 'diff_hr2',\n",
       "       'prcp', 'rain'],\n",
       "      dtype='object')"
      ]
     },
     "execution_count": 35,
     "metadata": {},
     "output_type": "execute_result"
    }
   ],
   "source": [
    "col_list = tmp.columns.tolist()\n",
    "tmp = tmp[col_list[:4] + col_list[5:21] + col_list[22:] + [col_list[4], col_list[21]]]\n",
    "tmp.columns\n",
    "# prcp and rain to the end of the df"
   ]
  },
  {
   "cell_type": "code",
   "execution_count": 36,
   "metadata": {},
   "outputs": [
    {
     "data": {
      "text/plain": [
       "<matplotlib.axes._subplots.AxesSubplot at 0x117015a58>"
      ]
     },
     "execution_count": 36,
     "metadata": {},
     "output_type": "execute_result"
    },
    {
     "data": {
      "image/png": "[encoded data removed]",
      "text/plain": [
       "<Figure size 1080x1080 with 2 Axes>"
      ]
     },
     "metadata": {
      "needs_background": "light"
     },
     "output_type": "display_data"
    }
   ],
   "source": [
    "plt.figure(figsize=(15,15))\n",
    "corr = tmp.corr()\n",
    "mask = np.zeros_like(corr, dtype=np.bool)\n",
    "mask[np.triu_indices_from(mask)] = True\n",
    "sns.heatmap(corr, square=True, cmap='RdBu', mask=mask)"
   ]
  },
  {
   "cell_type": "markdown",
   "metadata": {},
   "source": [
    "Correlation between feature variables:\n",
    "- Rain or not is heavily correlated to rain1; generally to gbrd, temp, wdsp\n",
    "- prcp heavily correlated to prcp1"
   ]
  },
  {
   "cell_type": "markdown",
   "metadata": {},
   "source": [
    "#### Logistic regression\n",
    "<a id='lr'></a>"
   ]
  },
  {
   "cell_type": "code",
   "execution_count": 38,
   "metadata": {},
   "outputs": [
    {
     "name": "stdout",
     "output_type": "stream",
     "text": [
      "(66788, 50) (16698, 50) (66788,) (16698,)\n"
     ]
    }
   ],
   "source": [
    "# w/o smote\n",
    "lr = LogisticRegression(solver='liblinear')\n",
    "x_train, x_test, y_train, y_test = train_test_split(tmp.drop(['prcp', 'rain'], axis=1), tmp['rain'], test_size=0.2, random_state=42)\n",
    "print(x_train.shape, x_test.shape, y_train.shape, y_test.shape)"
   ]
  },
  {
   "cell_type": "code",
   "execution_count": 39,
   "metadata": {},
   "outputs": [
    {
     "name": "stderr",
     "output_type": "stream",
     "text": [
      "/Library/Frameworks/Python.framework/Versions/3.6/lib/python3.6/site-packages/sklearn/preprocessing/data.py:625: DataConversionWarning: Data with input dtype int64, float64 were all converted to float64 by StandardScaler.\n",
      "  return self.partial_fit(X, y)\n",
      "/Library/Frameworks/Python.framework/Versions/3.6/lib/python3.6/site-packages/sklearn/base.py:462: DataConversionWarning: Data with input dtype int64, float64 were all converted to float64 by StandardScaler.\n",
      "  return self.fit(X, **fit_params).transform(X)\n",
      "/Library/Frameworks/Python.framework/Versions/3.6/lib/python3.6/site-packages/ipykernel_launcher.py:3: DataConversionWarning: Data with input dtype int64, float64 were all converted to float64 by StandardScaler.\n",
      "  This is separate from the ipykernel package so we can avoid doing imports until\n"
     ]
    }
   ],
   "source": [
    "scaler = StandardScaler()\n",
    "x_train = scaler.fit_transform(x_train)\n",
    "x_test = scaler.transform(x_test)\n",
    "\n",
    "# increased roc_auc_score by 0.05"
   ]
  },
  {
   "cell_type": "markdown",
   "metadata": {},
   "source": [
    "As the scale of variables are quite different (yr is in the scale of ~1000, while prcp is in ~10), we standardized them by removing the mean and scaling to unit variance."
   ]
  },
  {
   "cell_type": "code",
   "execution_count": 40,
   "metadata": {},
   "outputs": [
    {
     "name": "stdout",
     "output_type": "stream",
     "text": [
      "LogisticRegression(C=1.0, class_weight=None, dual=False, fit_intercept=True,\n",
      "          intercept_scaling=1, max_iter=100, multi_class='warn',\n",
      "          n_jobs=None, penalty='l2', random_state=None, solver='liblinear',\n",
      "          tol=0.0001, verbose=0, warm_start=False)\n",
      "\n",
      "cross_val_score: [0.95253781 0.94849528 0.9482707  0.95066257 0.9496893 ]\n",
      "              precision    recall  f1-score   support\n",
      "\n",
      "           0       0.97      0.98      0.97     15326\n",
      "           1       0.78      0.60      0.68      1372\n",
      "\n",
      "   micro avg       0.95      0.95      0.95     16698\n",
      "   macro avg       0.87      0.79      0.83     16698\n",
      "weighted avg       0.95      0.95      0.95     16698\n",
      "\n",
      "\n",
      "roc_auc_score: 0.7944143681595977\n"
     ]
    }
   ],
   "source": [
    "print(lr)\n",
    "print('\\ncross_val_score:', cross_val_score(lr, x_train, y_train, cv=KFold(5)))\n",
    "\n",
    "lr = lr.fit(x_train, y_train)\n",
    "preds = lr.predict(x_test)\n",
    "pred_probas = lr.predict_proba(x_test)\n",
    "\n",
    "print(classification_report(y_test, preds))\n",
    "print('\\nroc_auc_score:', roc_auc_score(y_test, preds))\n",
    "\n",
    "# looks like we need smote"
   ]
  },
  {
   "cell_type": "code",
   "execution_count": 41,
   "metadata": {},
   "outputs": [
    {
     "data": {
      "image/png": "[encoded data removed]",
      "text/plain": [
       "<Figure size 432x288 with 1 Axes>"
      ]
     },
     "metadata": {
      "needs_background": "light"
     },
     "output_type": "display_data"
    }
   ],
   "source": [
    "fpr, tpr, _ = roc_curve(y_test, pred_probas[:, 1])\n",
    "plt.plot([0, 1], [0, 1], 'k--')\n",
    "plt.plot(fpr, tpr, label='roc_auc_score:' + str(roc_auc_score(y_test, preds)))\n",
    "plt.xlabel('False positive rate')\n",
    "plt.ylabel('True positive rate')\n",
    "plt.title('ROC curve')\n",
    "plt.legend(loc='best')\n",
    "plt.show()"
   ]
  },
  {
   "cell_type": "code",
   "execution_count": 42,
   "metadata": {},
   "outputs": [
    {
     "name": "stdout",
     "output_type": "stream",
     "text": [
      "(122168, 50) (122168,)\n",
      "61084 61084\n"
     ]
    }
   ],
   "source": [
    "# w/ smote\n",
    "sm = SMOTE(random_state=42)\n",
    "x_train_sm, y_train_sm = sm.fit_sample(x_train, y_train.ravel())\n",
    "print(x_train_sm.shape, y_train_sm.shape)\n",
    "print(sum(y_train_sm == 1), sum(y_train_sm == 0))"
   ]
  },
  {
   "cell_type": "code",
   "execution_count": 43,
   "metadata": {},
   "outputs": [
    {
     "name": "stdout",
     "output_type": "stream",
     "text": [
      "LogisticRegression(C=1.0, class_weight=None, dual=False, fit_intercept=True,\n",
      "          intercept_scaling=1, max_iter=100, multi_class='warn',\n",
      "          n_jobs=None, penalty='l2', random_state=None, solver='liblinear',\n",
      "          tol=0.0001, verbose=0, warm_start=False)\n",
      "              precision    recall  f1-score   support\n",
      "\n",
      "           0       0.99      0.90      0.94     15326\n",
      "           1       0.45      0.89      0.59      1372\n",
      "\n",
      "   micro avg       0.90      0.90      0.90     16698\n",
      "   macro avg       0.72      0.89      0.77     16698\n",
      "weighted avg       0.94      0.90      0.91     16698\n",
      "\n",
      "\n",
      "roc_auc_score: 0.8934236928118874\n"
     ]
    }
   ],
   "source": [
    "lrs = LogisticRegression(solver='liblinear')\n",
    "print(lrs)\n",
    "\n",
    "lrs = lrs.fit(x_train_sm, y_train_sm)\n",
    "spreds = lrs.predict(x_test)\n",
    "spred_probas = lrs.predict_proba(x_test)\n",
    "\n",
    "print(classification_report(y_test, spreds))\n",
    "print('\\nroc_auc_score:', roc_auc_score(y_test, spreds))"
   ]
  },
  {
   "cell_type": "code",
   "execution_count": 44,
   "metadata": {},
   "outputs": [
    {
     "data": {
      "image/png": "[encoded data removed]",
      "text/plain": [
       "<Figure size 1440x720 with 1 Axes>"
      ]
     },
     "metadata": {
      "needs_background": "light"
     },
     "output_type": "display_data"
    }
   ],
   "source": [
    "fprs, tprs, _ = roc_curve(y_test, spred_probas[:, 1])\n",
    "plt.figure(figsize=(20,10))\n",
    "plt.plot([0, 1], [0, 1], 'k--')\n",
    "plt.plot(fpr, tpr, label='No SMOTE ' + str(roc_auc_score(y_test, preds)))\n",
    "plt.plot(fprs, tprs, label='SMOTE ' + str(roc_auc_score(y_test, spreds)))\n",
    "plt.xlabel('False positive rate')\n",
    "plt.ylabel('True positive rate')\n",
    "plt.title('ROC curve with SMOTE')\n",
    "plt.legend(loc='best')\n",
    "plt.show()\n",
    "\n",
    "# ...the line of mo smote is slightly higher than smote????!!!!"
   ]
  },
  {
   "cell_type": "code",
   "execution_count": 45,
   "metadata": {},
   "outputs": [
    {
     "data": {
      "text/plain": [
       "Text(0.5,1,'Feature Importances')"
      ]
     },
     "execution_count": 45,
     "metadata": {},
     "output_type": "execute_result"
    },
    {
     "data": {
      "image/png": "[encoded data removed]",
      "text/plain": [
       "<Figure size 1080x720 with 1 Axes>"
      ]
     },
     "metadata": {
      "needs_background": "light"
     },
     "output_type": "display_data"
    }
   ],
   "source": [
    "fis = pd.Series(lrs.coef_[0] * np.std(x_train_sm, 0), index=tmp.columns[:-2]).sort_values()\n",
    "plt.figure(figsize=(15, 10))\n",
    "fis.plot.barh(cmap='inferno')\n",
    "plt.title('Feature Importances')"
   ]
  },
  {
   "cell_type": "markdown",
   "metadata": {},
   "source": [
    "According to the feature importance we drew from logistic regression, we figured out that relative humid, air temperature, wind gust, dew point temperature, solar radiation and precipitation in last few hours are strongly correlated with whether it rains or not."
   ]
  },
  {
   "cell_type": "markdown",
   "metadata": {},
   "source": [
    "#### Linear regression\n",
    "<a id='linear'></a>"
   ]
  },
  {
   "cell_type": "code",
   "execution_count": 47,
   "metadata": {},
   "outputs": [
    {
     "name": "stdout",
     "output_type": "stream",
     "text": [
      "(66788, 50) (16698, 50) (66788,) (16698,)\n",
      ".score: 0.2737224407692155\n",
      "\n",
      "r2_score: 0.33729535437331615\n",
      "mean_squared_error: 1.356306675380677\n"
     ]
    },
    {
     "name": "stderr",
     "output_type": "stream",
     "text": [
      "/Library/Frameworks/Python.framework/Versions/3.6/lib/python3.6/site-packages/scipy/linalg/basic.py:1226: RuntimeWarning: internal gelsd driver lwork query error, required iwork dimension not returned. This is likely the result of LAPACK bug 0038, fixed in LAPACK 3.2.2 (released July 21, 2010). Falling back to 'gelss' driver.\n",
      "  warnings.warn(mesg, RuntimeWarning)\n"
     ]
    }
   ],
   "source": [
    "# ... why linear regression is also lr ughhh\n",
    "linear = LinearRegression()\n",
    "# print('\\ncross_val_score:', cross_val_score(linear, x_train_sm, y_train_sm, scoring='r2_score', cv=KFold(5)))\n",
    "x_train_linear, x_test_linear, y_train_linear, y_test_linear = train_test_split(tmp.drop(['prcp', 'rain'], axis=1), tmp['prcp'], test_size=0.2, random_state=42)\n",
    "print(x_train.shape, x_test.shape, y_train.shape, y_test.shape)\n",
    "\n",
    "linear = linear.fit(x_train_linear, y_train_linear)\n",
    "lpreds = linear.predict(x_test_linear)\n",
    "\n",
    "print('.score:', linear.score(x_train_linear, y_train_linear))\n",
    "print('\\nr2_score:', r2_score(y_test_linear, lpreds))\n",
    "print('mean_squared_error:', mean_squared_error(y_test_linear, lpreds))"
   ]
  },
  {
   "cell_type": "markdown",
   "metadata": {},
   "source": [
    "The result is not so good and not as interpretable for regression task. There is no direct comparision for the value of MSE. But a rather low r2 suggests the model cannot fit the data very well. Maybe it is not linearly separable; correlated variables might introduce noise to the model too. So we decided to fit the model with orginal dataframe and have a look."
   ]
  },
  {
   "cell_type": "code",
   "execution_count": 53,
   "metadata": {},
   "outputs": [
    {
     "data": {
      "text/plain": [
       "Text(0.5,1,'Feature Importances')"
      ]
     },
     "execution_count": 53,
     "metadata": {},
     "output_type": "execute_result"
    },
    {
     "data": {
      "image/png": "[encoded data removed]",
      "text/plain": [
       "<Figure size 1080x720 with 1 Axes>"
      ]
     },
     "metadata": {
      "needs_background": "light"
     },
     "output_type": "display_data"
    }
   ],
   "source": [
    "fil = pd.Series(-linear.coef_[0] * np.std(x_train_linear, 0), index=x_train_linear.columns).sort_values()\n",
    "plt.figure(figsize=(15, 10))\n",
    "fil.plot.barh(cmap='inferno')\n",
    "plt.title('Feature Importances')"
   ]
  },
  {
   "cell_type": "markdown",
   "metadata": {},
   "source": [
    "In the linear regression model, it turns out that solar radiation, air pressure and wind direction from last three hours contribute most to the amount of precipitation."
   ]
  },
  {
   "cell_type": "code",
   "execution_count": 49,
   "metadata": {},
   "outputs": [
    {
     "data": {
      "text/plain": [
       "Index(['yr', 'mo', 'da', 'hr', 'prcp', 'stp', 'smax', 'smin', 'gbrd', 'temp',\n",
       "       'dewp', 'tmax', 'dmax', 'tmin', 'dmin', 'hmdy', 'hmax', 'hmin', 'wdsp',\n",
       "       'wdct', 'gust', 'rain'],\n",
       "      dtype='object')"
      ]
     },
     "execution_count": 49,
     "metadata": {},
     "output_type": "execute_result"
    }
   ],
   "source": [
    "dfv.columns"
   ]
  },
  {
   "cell_type": "code",
   "execution_count": 48,
   "metadata": {},
   "outputs": [
    {
     "name": "stdout",
     "output_type": "stream",
     "text": [
      ".score: 0.08628084041664863\n",
      "\n",
      "r2_score: 0.07479651648376395\n",
      "mean_squared_error: 0.1292044498789276\n"
     ]
    }
   ],
   "source": [
    "# linear regression assumes independence of feature variables -> use original records\n",
    "\n",
    "x_train_org, x_test_org, y_train_org, y_test_org = train_test_split(dfv.drop(['prcp', 'rain'], axis=1), dfv['prcp'], test_size=0.2, random_state=42)\n",
    "\n",
    "linear_org = LinearRegression()\n",
    "\n",
    "linear_org = linear_org.fit(x_train_org, y_train_org)\n",
    "olpreds = linear_org.predict(x_test_org)\n",
    "\n",
    "print('.score:', linear_org.score(x_train_org, y_train_org))\n",
    "print('\\nr2_score:', r2_score(y_test_org, olpreds))\n",
    "print('mean_squared_error:', mean_squared_error(y_test, olpreds))\n",
    "\n",
    "# still v bad"
   ]
  },
  {
   "cell_type": "markdown",
   "metadata": {},
   "source": [
    "\"Even badder!\""
   ]
  },
  {
   "cell_type": "markdown",
   "metadata": {},
   "source": [
    "### Predict with zero-filled data\n",
    "<a id='zero'></a>"
   ]
  },
  {
   "cell_type": "markdown",
   "metadata": {},
   "source": [
    "We only used logistic regression for the following experiments due to its interpretability."
   ]
  },
  {
   "cell_type": "code",
   "execution_count": 68,
   "metadata": {},
   "outputs": [],
   "source": [
    "def last_3_hours(df):\n",
    "    df.drop(['wsid', 'wsnm', 'elvt', 'lat', 'lon', 'inme', 'city', 'prov', 'date', 'mdct'], axis=1, inplace=True)\n",
    "    df['rain'] = 0\n",
    "    df.loc[df.prcp > 0, 'rain'] = 1\n",
    "    df = df.reset_index(drop=True)\n",
    "    tmp = pd.concat([df, df.shift(periods=1), df.shift(periods=2)], axis=1)\n",
    "\n",
    "    tmp.columns = ['yr', 'mo', 'da', 'hr', 'prcp', 'stp', 'smax', 'smin', 'gbrd', 'temp',\n",
    "           'dewp', 'tmax', 'dmax', 'tmin', 'dmin', 'hmdy', 'hmax', 'hmin', 'wdsp',\n",
    "           'wdct', 'gust', 'rain', \n",
    "                   'yr1', 'mo1', 'da1', 'hr1', 'prcp1', 'stp1', 'smax1',\n",
    "           'smin1', 'gbrd1', 'temp1', 'dewp1', 'tmax1', 'dmax1', 'tmin1', 'dmin1', 'hmdy1',\n",
    "           'hmax1', 'hmin1', 'wdsp1', 'wdct1', 'gust1', 'rain1', \n",
    "                  'yr2', 'mo2', 'da2', 'hr2', 'prcp2', 'stp2', 'smax2', 'smin2', 'gbrd2', 'temp2',\n",
    "           'dewp2', 'tmax2', 'dmax2', 'tmin2', 'dmin2', 'hmdy2', 'hmax2', 'hmin2', 'wdsp2',\n",
    "           'wdct2', 'gust2', 'rain2']\n",
    "\n",
    "    tmp.fillna(method='bfill', inplace=True)\n",
    "    tmp.hr1 = tmp.hr1.astype(int)\n",
    "    tmp.hr2 = tmp.hr2.astype(int)\n",
    "    tmp.da1 = tmp.da1.astype(int)\n",
    "    tmp.da2 = tmp.da2.astype(int)\n",
    "    tmp.mo1 = tmp.mo1.astype(int)\n",
    "    tmp.mo2 = tmp.mo2.astype(int)\n",
    "    tmp.yr1 = tmp.yr1.astype(int)\n",
    "    tmp.yr2 = tmp.yr2.astype(int)\n",
    "\n",
    "\n",
    "    time_gap1 = tmp.loc[(tmp.hr != (tmp.hr1+1)%24)].index\n",
    "    time_gap2 = tmp.loc[(tmp.hr != (tmp.hr2+2)%24)].index\n",
    "    print(len(time_gap1), len(time_gap2))\n",
    "\n",
    "    tmp['diff_hr1'] = tmp.hr - tmp.hr1\n",
    "    tmp['diff_hr2'] = tmp.hr - tmp.hr2\n",
    "    tmp.loc[tmp.diff_hr1 < 0, 'diff_hr1'] = tmp.diff_hr1 + 24\n",
    "    tmp.loc[tmp.diff_hr2 < 0, 'diff_hr2'] = tmp.diff_hr2 + 24\n",
    "\n",
    "    tmp.drop(['yr1', 'mo1', 'da1', 'hr1', 'yr2', 'mo2', 'da2', 'hr2', \n",
    "              'stp1', 'temp1', 'dewp1', 'hmdy1', 'stp2', 'temp2', 'dewp2', 'hmdy2'], \n",
    "             axis=1, inplace=True)\n",
    "    print(tmp.shape)\n",
    "    return tmp"
   ]
  },
  {
   "cell_type": "code",
   "execution_count": 69,
   "metadata": {},
   "outputs": [],
   "source": [
    "def prepare_train_test(df):\n",
    "    x_train, x_test, y_train, y_test = train_test_split(df.drop(['prcp', 'rain'], axis=1), df['rain'], test_size=0.2, random_state=42)\n",
    "    print(x_train.shape, x_test.shape, y_train.shape, y_test.shape)\n",
    "    print(sum(y_train == 1), sum(y_train == 0))\n",
    "\n",
    "    scaler = StandardScaler()\n",
    "    x_train = scaler.fit_transform(x_train)\n",
    "    x_test = scaler.transform(x_test)\n",
    "\n",
    "    # w/ smote\n",
    "    sm = SMOTE(random_state=42)\n",
    "    x_train_sm, y_train_sm = sm.fit_sample(x_train, y_train.ravel())\n",
    "    print(x_train_sm.shape, y_train_sm.shape)\n",
    "    print(sum(y_train_sm == 1), sum(y_train_sm == 0))\n",
    "    return x_train_sm, x_test, y_train_sm, y_test"
   ]
  },
  {
   "cell_type": "code",
   "execution_count": 70,
   "metadata": {},
   "outputs": [],
   "source": [
    "def fit_eval_model(x_train, x_test, y_train, y_test):\n",
    "    lr = LogisticRegression(solver='liblinear')\n",
    "    print(lr)\n",
    "\n",
    "    lr = lr.fit(x_train, y_train)\n",
    "    preds = lr.predict(x_test)\n",
    "    pred_probas = lr.predict_proba(x_test)\n",
    "\n",
    "    print(classification_report(y_test, preds))\n",
    "    roauc = roc_auc_score(y_test, preds)\n",
    "    print('\\nroc_auc_score:', roauc)\n",
    "    \n",
    "    return pred_probas, roauc"
   ]
  },
  {
   "cell_type": "code",
   "execution_count": 71,
   "metadata": {},
   "outputs": [],
   "source": [
    "def plot_roc_curve(y_test, pred_probas, roauc):\n",
    "    fpr, tpr, _ = roc_curve(y_test, pred_probas[:, 1])\n",
    "    plt.plot([0, 1], [0, 1], 'k--')\n",
    "    plt.plot(fpr, tpr, label='SMOTE ' + str(roauc))\n",
    "    plt.xlabel('False positive rate')\n",
    "    plt.ylabel('True positive rate')\n",
    "    plt.title('ROC curve with SMOTE')\n",
    "    plt.legend(loc='best')\n",
    "    plt.show()"
   ]
  },
  {
   "cell_type": "code",
   "execution_count": 58,
   "metadata": {},
   "outputs": [
    {
     "name": "stdout",
     "output_type": "stream",
     "text": [
      "\n",
      "prcp\n",
      "False    86952\n",
      "Name: prcp, dtype: int64\n",
      "\n",
      "gbrd\n",
      "False    86952\n",
      "Name: gbrd, dtype: int64\n",
      "\n",
      "wdsp\n",
      "False    86952\n",
      "Name: wdsp, dtype: int64\n",
      "\n",
      "gust\n",
      "False    86952\n",
      "Name: gust, dtype: int64\n"
     ]
    }
   ],
   "source": [
    "# predict with only fill 0\n",
    "df0 = pd.read_csv('data.csv', index_col=None)\n",
    "df0.drop('Unnamed: 0', axis=1, inplace=True)\n",
    "\n",
    "dfv0 = df[df.city == 'Vitória'].copy()\n",
    "for col in ['prcp', 'gbrd', 'wdsp', 'gust']:\n",
    "    dfv0.fillna(value=0, inplace=True)\n",
    "    print('\\n' + col)\n",
    "    print(dfv0[col].isnull().value_counts())"
   ]
  },
  {
   "cell_type": "code",
   "execution_count": 219,
   "metadata": {},
   "outputs": [
    {
     "name": "stdout",
     "output_type": "stream",
     "text": [
      "1 2\n",
      "(86952, 52)\n"
     ]
    }
   ],
   "source": [
    "tmp0 = last_3_hours(dfv0)"
   ]
  },
  {
   "cell_type": "code",
   "execution_count": 221,
   "metadata": {},
   "outputs": [
    {
     "name": "stdout",
     "output_type": "stream",
     "text": [
      "(69561, 50) (17391, 50) (69561,) (17391,)\n",
      "5588 63973\n"
     ]
    },
    {
     "name": "stderr",
     "output_type": "stream",
     "text": [
      "/Library/Frameworks/Python.framework/Versions/3.6/lib/python3.6/site-packages/sklearn/preprocessing/data.py:625: DataConversionWarning: Data with input dtype int64, float64 were all converted to float64 by StandardScaler.\n",
      "  return self.partial_fit(X, y)\n",
      "/Library/Frameworks/Python.framework/Versions/3.6/lib/python3.6/site-packages/sklearn/base.py:462: DataConversionWarning: Data with input dtype int64, float64 were all converted to float64 by StandardScaler.\n",
      "  return self.fit(X, **fit_params).transform(X)\n",
      "/Library/Frameworks/Python.framework/Versions/3.6/lib/python3.6/site-packages/ipykernel_launcher.py:8: DataConversionWarning: Data with input dtype int64, float64 were all converted to float64 by StandardScaler.\n",
      "  \n"
     ]
    },
    {
     "name": "stdout",
     "output_type": "stream",
     "text": [
      "(127946, 50) (127946,)\n",
      "63973 63973\n"
     ]
    }
   ],
   "source": [
    "x_train0, x_test0, y_train0, y_test0 = prepare_train_test(tmp0)"
   ]
  },
  {
   "cell_type": "code",
   "execution_count": 223,
   "metadata": {
    "scrolled": true
   },
   "outputs": [
    {
     "name": "stdout",
     "output_type": "stream",
     "text": [
      "LogisticRegression(C=1.0, class_weight=None, dual=False, fit_intercept=True,\n",
      "          intercept_scaling=1, max_iter=100, multi_class='warn',\n",
      "          n_jobs=None, penalty='l2', random_state=None, solver='liblinear',\n",
      "          tol=0.0001, verbose=0, warm_start=False)\n",
      "              precision    recall  f1-score   support\n",
      "\n",
      "           0       0.99      0.90      0.94     15903\n",
      "           1       0.44      0.87      0.59      1488\n",
      "\n",
      "   micro avg       0.90      0.90      0.90     17391\n",
      "   macro avg       0.72      0.89      0.76     17391\n",
      "weighted avg       0.94      0.90      0.91     17391\n",
      "\n",
      "\n",
      "roc_auc_score: 0.8861044299817644\n"
     ]
    }
   ],
   "source": [
    "pred_probas0, roauc0 = fit_eval_model(x_train0, x_test0, y_train0, y_test0)"
   ]
  },
  {
   "cell_type": "code",
   "execution_count": 225,
   "metadata": {},
   "outputs": [
    {
     "data": {
      "image/png": "[encoded data removed]",
      "text/plain": [
       "<Figure size 432x288 with 1 Axes>"
      ]
     },
     "metadata": {
      "needs_background": "light"
     },
     "output_type": "display_data"
    }
   ],
   "source": [
    "plot_roc_curve(y_test0, pred_probas0, roauc0)\n",
    "# 这也没差多少啊..."
   ]
  },
  {
   "cell_type": "markdown",
   "metadata": {},
   "source": [
    "The result is not much lower than \"proper\" cleaning of data. There are not many variables to be cleaned in the first place, so there's not much difference between filling zero and \"proper\" cleaning."
   ]
  },
  {
   "cell_type": "markdown",
   "metadata": {},
   "source": [
    "# Bonus: the other city\n",
    "<a id='bonus'></a>"
   ]
  },
  {
   "cell_type": "code",
   "execution_count": 59,
   "metadata": {},
   "outputs": [
    {
     "name": "stdout",
     "output_type": "stream",
     "text": [
      "\n",
      "prcp\n",
      "True     65219\n",
      "False    12829\n",
      "Name: prcp, dtype: int64\n",
      "\n",
      "gbrd\n",
      "False    45528\n",
      "True     32520\n",
      "Name: gbrd, dtype: int64\n",
      "\n",
      "wdsp\n",
      "False    67915\n",
      "True     10133\n",
      "Name: wdsp, dtype: int64\n",
      "\n",
      "gust\n",
      "False    75542\n",
      "True      2506\n",
      "Name: gust, dtype: int64\n"
     ]
    }
   ],
   "source": [
    "# the other city\n",
    "dfs = df0[df0.city == 'São Gonçalo'].copy()\n",
    "for col in ['prcp', 'gbrd', 'wdsp', 'gust']:\n",
    "    print('\\n' + col)\n",
    "    print(dfs[col].isnull().value_counts())"
   ]
  },
  {
   "cell_type": "code",
   "execution_count": 60,
   "metadata": {},
   "outputs": [
    {
     "name": "stdout",
     "output_type": "stream",
     "text": [
      "10806 (67242, 31)\n",
      "True     65219\n",
      "False     2023\n",
      "Name: prcp, dtype: int64\n",
      "2021\n"
     ]
    }
   ],
   "source": [
    "# remove all zero records\n",
    "to_drop = dfs[(dfs.prcp==0)&(dfs.temp==0)].index\n",
    "dfs.drop(to_drop, inplace=True)\n",
    "print(len(to_drop), dfs.shape)\n",
    "\n",
    "print(dfs.prcp.isnull().value_counts())\n",
    "\n",
    "print(len(dfs.loc[(dfs['prcp'] != 0) & (~dfs.prcp.isnull())]))"
   ]
  },
  {
   "cell_type": "code",
   "execution_count": 61,
   "metadata": {},
   "outputs": [
    {
     "name": "stdout",
     "output_type": "stream",
     "text": [
      "False    67242\n",
      "Name: prcp, dtype: int64\n"
     ]
    }
   ],
   "source": [
    "dfs.prcp.fillna(value=0, inplace=True)\n",
    "print(dfs.prcp.isnull().value_counts())"
   ]
  },
  {
   "cell_type": "code",
   "execution_count": 62,
   "metadata": {},
   "outputs": [
    {
     "data": {
      "text/plain": [
       "False    67242\n",
       "Name: gbrd, dtype: int64"
      ]
     },
     "execution_count": 62,
     "metadata": {},
     "output_type": "execute_result"
    }
   ],
   "source": [
    "gbrd = dfs[['hr', 'gbrd']].groupby('hr').mean()\n",
    "gbrd.fillna(value=0, inplace=True)\n",
    "avg_gbrd_per_hour = gbrd.values.ravel().tolist()\n",
    "for i in range(0,24):\n",
    "    dfs.loc[(dfs.hr==i)&(dfs.gbrd.isnull()), 'gbrd'] = avg_gbrd_per_hour[i-1]\n",
    "dfs.gbrd.isnull().value_counts()"
   ]
  },
  {
   "cell_type": "code",
   "execution_count": 63,
   "metadata": {},
   "outputs": [
    {
     "data": {
      "text/plain": [
       "False    67242\n",
       "Name: wdsp, dtype: int64"
      ]
     },
     "execution_count": 63,
     "metadata": {},
     "output_type": "execute_result"
    }
   ],
   "source": [
    "dfs.wdsp.fillna(method='bfill', inplace=True)\n",
    "dfs.wdsp.isnull().value_counts()"
   ]
  },
  {
   "cell_type": "code",
   "execution_count": 64,
   "metadata": {},
   "outputs": [
    {
     "data": {
      "text/plain": [
       "False    67242\n",
       "Name: gust, dtype: int64"
      ]
     },
     "execution_count": 64,
     "metadata": {},
     "output_type": "execute_result"
    }
   ],
   "source": [
    "dfs.gust.fillna(method='bfill', inplace=True)\n",
    "dfs.gust.isnull().value_counts()"
   ]
  },
  {
   "cell_type": "markdown",
   "metadata": {},
   "source": [
    "We filled wdsp and gust with the value of the previous hour, because wind speed changes continuously."
   ]
  },
  {
   "cell_type": "code",
   "execution_count": 72,
   "metadata": {},
   "outputs": [
    {
     "name": "stdout",
     "output_type": "stream",
     "text": [
      "447 863\n",
      "(67242, 52)\n"
     ]
    }
   ],
   "source": [
    "sg = last_3_hours(dfs)"
   ]
  },
  {
   "cell_type": "code",
   "execution_count": 73,
   "metadata": {},
   "outputs": [
    {
     "name": "stdout",
     "output_type": "stream",
     "text": [
      "(53793, 50) (13449, 50) (53793,) (13449,)\n",
      "1623 52170\n"
     ]
    },
    {
     "name": "stderr",
     "output_type": "stream",
     "text": [
      "/Library/Frameworks/Python.framework/Versions/3.6/lib/python3.6/site-packages/sklearn/preprocessing/data.py:625: DataConversionWarning: Data with input dtype int64, float64 were all converted to float64 by StandardScaler.\n",
      "  return self.partial_fit(X, y)\n",
      "/Library/Frameworks/Python.framework/Versions/3.6/lib/python3.6/site-packages/sklearn/base.py:462: DataConversionWarning: Data with input dtype int64, float64 were all converted to float64 by StandardScaler.\n",
      "  return self.fit(X, **fit_params).transform(X)\n",
      "/Library/Frameworks/Python.framework/Versions/3.6/lib/python3.6/site-packages/ipykernel_launcher.py:8: DataConversionWarning: Data with input dtype int64, float64 were all converted to float64 by StandardScaler.\n",
      "  \n"
     ]
    },
    {
     "name": "stdout",
     "output_type": "stream",
     "text": [
      "(104340, 50) (104340,)\n",
      "52170 52170\n"
     ]
    }
   ],
   "source": [
    "x_train_sg, x_test_sg, y_train_sg, y_test_sg = prepare_train_test(sg)"
   ]
  },
  {
   "cell_type": "code",
   "execution_count": 74,
   "metadata": {},
   "outputs": [
    {
     "name": "stdout",
     "output_type": "stream",
     "text": [
      "LogisticRegression(C=1.0, class_weight=None, dual=False, fit_intercept=True,\n",
      "          intercept_scaling=1, max_iter=100, multi_class='warn',\n",
      "          n_jobs=None, penalty='l2', random_state=None, solver='liblinear',\n",
      "          tol=0.0001, verbose=0, warm_start=False)\n",
      "              precision    recall  f1-score   support\n",
      "\n",
      "           0       1.00      0.92      0.95     13051\n",
      "           1       0.24      0.85      0.37       398\n",
      "\n",
      "   micro avg       0.92      0.92      0.92     13449\n",
      "   macro avg       0.62      0.88      0.66     13449\n",
      "weighted avg       0.97      0.92      0.94     13449\n",
      "\n",
      "\n",
      "roc_auc_score: 0.8844266347444832\n"
     ]
    }
   ],
   "source": [
    "pred_probas_sg, roauc_sg = fit_eval_model(x_train_sg, x_test_sg, y_train_sg, y_test_sg)"
   ]
  },
  {
   "cell_type": "code",
   "execution_count": 214,
   "metadata": {},
   "outputs": [
    {
     "data": {
      "image/png": "[encoded data removed]",
      "text/plain": [
       "<Figure size 432x288 with 1 Axes>"
      ]
     },
     "metadata": {
      "needs_background": "light"
     },
     "output_type": "display_data"
    }
   ],
   "source": [
    "plot_roc_curve(y_test_sg, pred_probas_sg, roauc_sg)"
   ]
  },
  {
   "cell_type": "markdown",
   "metadata": {},
   "source": [
    "It turns out the model did a similar job on the other city... perhaps the precipitation distribution of the two city are similar, or perhaps it's the model is doing a bad job. We want to try out a baseline by predicting all records to zero. (We should have done this before actually training the model.)"
   ]
  },
  {
   "cell_type": "code",
   "execution_count": 83,
   "metadata": {},
   "outputs": [
    {
     "name": "stdout",
     "output_type": "stream",
     "text": [
      "              precision    recall  f1-score   support\n",
      "\n",
      "           0       0.97      1.00      0.98     13051\n",
      "           1       0.00      0.00      0.00       398\n",
      "\n",
      "   micro avg       0.97      0.97      0.97     13449\n",
      "   macro avg       0.49      0.50      0.49     13449\n",
      "weighted avg       0.94      0.97      0.96     13449\n",
      "\n",
      "0.5\n"
     ]
    },
    {
     "name": "stderr",
     "output_type": "stream",
     "text": [
      "/Library/Frameworks/Python.framework/Versions/3.6/lib/python3.6/site-packages/sklearn/metrics/classification.py:1143: UndefinedMetricWarning: Precision and F-score are ill-defined and being set to 0.0 in labels with no predicted samples.\n",
      "  'precision', 'predicted', average, warn_for)\n"
     ]
    }
   ],
   "source": [
    "print(classification_report(y_test_sg, [0 for _ in range(y_test_sg.shape[0])]))\n",
    "print(roc_auc_score(y_test_sg, [0 for _ in range(y_test_sg.shape[0])]))"
   ]
  },
  {
   "cell_type": "markdown",
   "metadata": {},
   "source": [
    "Our model is actually doing work."
   ]
  },
  {
   "cell_type": "code",
   "execution_count": null,
   "metadata": {},
   "outputs": [],
   "source": []
  }
 ],
 "metadata": {
  "kernelspec": {
   "display_name": "Python 3",
   "language": "python",
   "name": "python3"
  },
  "language_info": {
   "codemirror_mode": {
    "name": "ipython",
    "version": 3
   },
   "file_extension": ".py",
   "mimetype": "text/x-python",
   "name": "python",
   "nbconvert_exporter": "python",
   "pygments_lexer": "ipython3",
   "version": "3.6.5"
  }
 },
 "nbformat": 4,
 "nbformat_minor": 2
}
